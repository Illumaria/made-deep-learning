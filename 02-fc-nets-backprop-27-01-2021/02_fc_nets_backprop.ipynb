{
  "nbformat": 4,
  "nbformat_minor": 0,
  "metadata": {
    "kernelspec": {
      "display_name": "Python 3",
      "language": "python",
      "name": "python3"
    },
    "language_info": {
      "codemirror_mode": {
        "name": "ipython",
        "version": 3
      },
      "file_extension": ".py",
      "mimetype": "text/x-python",
      "name": "python",
      "nbconvert_exporter": "python",
      "pygments_lexer": "ipython3",
      "version": "3.6.9"
    },
    "colab": {
      "name": "seminar2_task.ipynb",
      "provenance": [],
      "collapsed_sections": []
    }
  },
  "cells": [
    {
      "cell_type": "code",
      "metadata": {
        "collapsed": true,
        "id": "jeJWounsqhpY"
      },
      "source": [
        "import numpy as np \n",
        "import _pickle as cPickle\n",
        "import gzip\n",
        "import os\n",
        "from sklearn.utils import shuffle\n",
        "from tqdm import tqdm"
      ],
      "execution_count": 1,
      "outputs": []
    },
    {
      "cell_type": "code",
      "metadata": {
        "collapsed": true,
        "id": "D7VXd_waqhpl"
      },
      "source": [
        "# utility functions\n",
        "\n",
        "def one_hot_encoded(y, num_class):\n",
        "    n = y.shape[0]\n",
        "    onehot = np.zeros((n, num_class), dtype=\"int32\")\n",
        "    for i in range(n):\n",
        "        idx = y[i]\n",
        "        onehot[i][idx] = 1\n",
        "    return onehot\n",
        "\n",
        "\n",
        "def check_accuracy(y_true, y_pred):\n",
        "    return np.mean(y_pred == y_true)  # both are not one hot encoded\n",
        "\n",
        "\n",
        "def softmax(x):\n",
        "    exp_x = np.exp(x - np.max(x, axis=1, keepdims=True))\n",
        "    return exp_x / np.sum(exp_x, axis=1, keepdims=True)\n",
        "\n",
        "\n",
        "# l2 regularization\n",
        "def l2_reg(layers, lam=0.001):\n",
        "    reg_loss = 0.0\n",
        "    for layer in layers:\n",
        "        if hasattr(layer, 'W'):\n",
        "            reg_loss += 0.5 * lam * np.sum(layer.W * layer.W)\n",
        "    return reg_loss\n",
        "\n",
        "\n",
        "# l2 regularization grad\n",
        "def delta_l2_reg(layers, grads, lam=0.001):\n",
        "    for layer, grad in zip(layers, reversed(grads)):\n",
        "        if hasattr(layer, 'W'):\n",
        "            grad[0] += lam * layer.W\n",
        "    return grads"
      ],
      "execution_count": 2,
      "outputs": []
    },
    {
      "cell_type": "code",
      "metadata": {
        "collapsed": true,
        "id": "gepenqShqhpn"
      },
      "source": [
        "def eval_numerical_gradient(f, x, verbose=False, h=0.00001):\n",
        "    \"\"\"Evaluates gradient df/dx via finite differences:\n",
        "    df/dx ~ (f(x+h) - f(x-h)) / 2h\n",
        "    Adopted from https://github.com/ddtm/dl-course/\n",
        "    \"\"\"\n",
        "    fx = f(x) # evaluate function value at original point\n",
        "    grad = np.zeros_like(x)\n",
        "    # iterate over all indexes in x\n",
        "    it = np.nditer(x, flags=['multi_index'], op_flags=['readwrite'])\n",
        "    while not it.finished:\n",
        "        # evaluate function at x+h\n",
        "        ix = it.multi_index\n",
        "        oldval = x[ix]\n",
        "        x[ix] = oldval + h # increment by h\n",
        "        fxph = f(x) # evalute f(x + h)\n",
        "        x[ix] = oldval - h\n",
        "        fxmh = f(x) # evaluate f(x - h)\n",
        "        x[ix] = oldval # restore\n",
        "\n",
        "        # compute the partial derivative with centered formula\n",
        "        grad[ix] = (fxph - fxmh) / (2 * h) # the slope\n",
        "        if verbose:\n",
        "            print (ix, grad[ix])\n",
        "        it.iternext() # step to next dimension\n",
        "\n",
        "    return grad"
      ],
      "execution_count": 3,
      "outputs": []
    },
    {
      "cell_type": "code",
      "metadata": {
        "collapsed": true,
        "id": "aNH3LoYVqhpq"
      },
      "source": [
        "class ReLU():\n",
        "    def __init__(self):\n",
        "        self.params = []\n",
        "        self.gradInput = None\n",
        "\n",
        "    def forward(self, X, mode):\n",
        "        self.X = X\n",
        "        return np.maximum(X, 0)\n",
        "\n",
        "    def backward(self, dout, mode):\n",
        "        self.gradInput = dout.copy()\n",
        "        self.gradInput[self.X <= 0] = 0\n",
        "        return self.gradInput, []"
      ],
      "execution_count": 4,
      "outputs": []
    },
    {
      "cell_type": "code",
      "metadata": {
        "id": "jsQb5bWBqhps",
        "colab": {
          "base_uri": "https://localhost:8080/"
        },
        "outputId": "51a99084-e40b-4311-e101-3dcf57717a33"
      },
      "source": [
        "points = np.linspace(-1, 1, 10*12).reshape([10, 12])\n",
        "relu = ReLU()\n",
        "f = lambda x: relu.forward(x, mode='train').sum(axis=1).sum()\n",
        "res = f(points)\n",
        "numeric_grads = eval_numerical_gradient(f, points)\n",
        "print(numeric_grads)\n",
        "inp_grad = np.ones(shape=(10, 12))\n",
        "grads = relu.backward(inp_grad, mode='train')[0]\n",
        "assert np.allclose(grads, numeric_grads, rtol=1e-3, atol=0)"
      ],
      "execution_count": 5,
      "outputs": [
        {
          "output_type": "stream",
          "text": [
            "[[0. 0. 0. 0. 0. 0. 0. 0. 0. 0. 0. 0.]\n",
            " [0. 0. 0. 0. 0. 0. 0. 0. 0. 0. 0. 0.]\n",
            " [0. 0. 0. 0. 0. 0. 0. 0. 0. 0. 0. 0.]\n",
            " [0. 0. 0. 0. 0. 0. 0. 0. 0. 0. 0. 0.]\n",
            " [0. 0. 0. 0. 0. 0. 0. 0. 0. 0. 0. 0.]\n",
            " [1. 1. 1. 1. 1. 1. 1. 1. 1. 1. 1. 1.]\n",
            " [1. 1. 1. 1. 1. 1. 1. 1. 1. 1. 1. 1.]\n",
            " [1. 1. 1. 1. 1. 1. 1. 1. 1. 1. 1. 1.]\n",
            " [1. 1. 1. 1. 1. 1. 1. 1. 1. 1. 1. 1.]\n",
            " [1. 1. 1. 1. 1. 1. 1. 1. 1. 1. 1. 1.]]\n"
          ],
          "name": "stdout"
        }
      ]
    },
    {
      "cell_type": "code",
      "metadata": {
        "collapsed": true,
        "id": "t7FTFIqDqhpw"
      },
      "source": [
        "class Linear():\n",
        "    def __init__(self, in_size, out_size):\n",
        "        # Xavier init\n",
        "        self.W = np.random.randn(in_size, out_size) / np.sqrt(in_size + out_size/ 2.)\n",
        "        self.b = np.zeros((1, out_size))\n",
        "        self.params = [self.W, self.b]\n",
        "        self.gradW = None\n",
        "        self.gradB = None\n",
        "        self.gradInput = None\n",
        "\n",
        "    def forward(self, X, mode):\n",
        "        self.X = X\n",
        "        out = self.X.dot(self.W) + self.b\n",
        "        return out\n",
        "\n",
        "    def backward(self, dout, mode):\n",
        "        self.gradW = self.X.T.dot(dout)\n",
        "        self.gradB = np.mean(dout, axis=0)\n",
        "        self.gradInput = dout.dot(self.W.T)\n",
        "        return self.gradInput, [self.gradW, self.gradB]"
      ],
      "execution_count": 6,
      "outputs": []
    },
    {
      "cell_type": "code",
      "metadata": {
        "id": "c-83NwDBqhpy",
        "colab": {
          "base_uri": "https://localhost:8080/"
        },
        "outputId": "4ff7326d-1771-42af-b34e-c2353629f20a"
      },
      "source": [
        "points = np.linspace(-1, 1, 10*12).reshape([10, 12])\n",
        "linear = Linear(12, 5)\n",
        "f = lambda x: linear.forward(x, mode='train').sum(axis=1).sum()\n",
        "res = f(points)\n",
        "numeric_grads = eval_numerical_gradient(f, points)\n",
        "print(numeric_grads)\n",
        "inp_grad = np.ones(shape=(10, 5))\n",
        "grads = linear.backward(inp_grad, mode='train')[0]\n",
        "assert np.allclose(grads, numeric_grads, rtol=1e-3, atol=0)"
      ],
      "execution_count": 7,
      "outputs": [
        {
          "output_type": "stream",
          "text": [
            "[[ 1.87356212 -0.36764859  0.02878447  0.27186649 -0.06247165 -0.15072348\n",
            "  -0.78328876 -0.21824865 -0.04352113 -1.73074052 -0.23331544 -0.32597875]\n",
            " [ 1.87356212 -0.36764859  0.02878447  0.27186649 -0.06247165 -0.15072348\n",
            "  -0.78328876 -0.21824865 -0.04352113 -1.73074052 -0.23331544 -0.32597875]\n",
            " [ 1.87356212 -0.36764859  0.02878447  0.27186649 -0.06247165 -0.15072348\n",
            "  -0.78328876 -0.21824865 -0.04352113 -1.73074052 -0.23331544 -0.32597875]\n",
            " [ 1.87356212 -0.36764859  0.02878447  0.27186649 -0.06247165 -0.15072348\n",
            "  -0.78328876 -0.21824865 -0.04352113 -1.73074052 -0.23331544 -0.32597875]\n",
            " [ 1.87356212 -0.36764859  0.02878447  0.27186649 -0.06247165 -0.15072348\n",
            "  -0.78328876 -0.21824865 -0.04352113 -1.73074052 -0.23331544 -0.32597875]\n",
            " [ 1.87356212 -0.36764859  0.02878447  0.27186649 -0.06247164 -0.15072348\n",
            "  -0.78328876 -0.21824865 -0.04352113 -1.73074052 -0.23331544 -0.32597875]\n",
            " [ 1.87356212 -0.36764859  0.02878447  0.27186649 -0.06247164 -0.15072348\n",
            "  -0.78328876 -0.21824865 -0.04352113 -1.73074052 -0.23331544 -0.32597875]\n",
            " [ 1.87356212 -0.36764859  0.02878447  0.27186649 -0.06247165 -0.15072348\n",
            "  -0.78328876 -0.21824865 -0.04352113 -1.73074052 -0.23331544 -0.32597875]\n",
            " [ 1.87356212 -0.36764859  0.02878447  0.27186649 -0.06247165 -0.15072348\n",
            "  -0.78328876 -0.21824865 -0.04352113 -1.73074052 -0.23331544 -0.32597875]\n",
            " [ 1.87356212 -0.36764859  0.02878447  0.27186649 -0.06247165 -0.15072348\n",
            "  -0.78328876 -0.21824865 -0.04352113 -1.73074052 -0.23331544 -0.32597875]]\n"
          ],
          "name": "stdout"
        }
      ]
    },
    {
      "cell_type": "code",
      "metadata": {
        "collapsed": true,
        "id": "Iz8ZiCXMqhp0"
      },
      "source": [
        "class CrossEntropyLoss(object):\n",
        "    def forward(self, X, y):\n",
        "        self.m = y.shape[0]\n",
        "        self.p = softmax(X)\n",
        "        cross_entropy = -np.log(self.p[range(self.m), y])\n",
        "        loss = np.sum(cross_entropy) / self.m\n",
        "        return loss\n",
        "\n",
        "    def backward(self, X, y):\n",
        "        dx = self.p.copy()\n",
        "        dx[range(self.m), y] -= 1\n",
        "        dx /= self.m\n",
        "        return dx"
      ],
      "execution_count": 8,
      "outputs": []
    },
    {
      "cell_type": "markdown",
      "metadata": {
        "id": "pPOGFjZuqhp2"
      },
      "source": [
        "## NN implementation"
      ]
    },
    {
      "cell_type": "code",
      "metadata": {
        "id": "LYkYJWpuqhp4"
      },
      "source": [
        "class NN:\n",
        "    def __init__(self, loss_func=CrossEntropyLoss(), mode = 'train'):\n",
        "        self.layers = []\n",
        "        self.params = []\n",
        "        self.loss_func = loss_func\n",
        "        self.grads = []\n",
        "        self.mode = mode\n",
        "\n",
        "    def add_layer(self, layer):\n",
        "        self.layers.append(layer)\n",
        "        self.params.append(layer.params)\n",
        "\n",
        "    def forward(self, X):\n",
        "        for layer in self.layers:\n",
        "            X = layer.forward(X, self.mode)\n",
        "        return X\n",
        "\n",
        "    def backward(self, dout):\n",
        "        self.clear_grad_param()\n",
        "        for layer in reversed(self.layers):\n",
        "            dout, grad = layer.backward(dout, self.mode)\n",
        "            self.grads.append(grad)\n",
        "        return self.grads\n",
        "\n",
        "    def train_step(self, X, y):\n",
        "        out = self.forward(X)\n",
        "        loss = self.loss_func.forward(out, y)\n",
        "        dout = self.loss_func.backward(out, y)\n",
        "        loss += l2_reg(self.layers)\n",
        "        grads = self.backward(dout)\n",
        "        grads = delta_l2_reg(self.layers, grads)\n",
        "        return loss, grads\n",
        "\n",
        "    def predict(self, X):\n",
        "        X = self.forward(X)\n",
        "        return np.argmax(softmax(X), axis=1)\n",
        "\n",
        "    def dispGradParam():\n",
        "        print(self.grads)\n",
        "    \n",
        "    def clear_grad_param(self):\n",
        "        self.grads = []"
      ],
      "execution_count": 9,
      "outputs": []
    },
    {
      "cell_type": "code",
      "metadata": {
        "collapsed": true,
        "id": "4JyB2D61qhp6"
      },
      "source": [
        "# SGD with momentum\n",
        "def update(velocity, params, grads, learning_rate=0.001, mu=0.9):\n",
        "    for v, p, g, in zip(velocity, params, reversed(grads)):\n",
        "        for i in range(len(g)):\n",
        "            v[i] = mu * v[i] + learning_rate * g[i]\n",
        "            p[i] -= v[i]\n",
        "\n",
        "# get minibatches\n",
        "def minibatch(X, y, minibatch_size):\n",
        "    n = X.shape[0]\n",
        "    minibatches = []\n",
        "    X, y = shuffle(X, y)\n",
        "\n",
        "    for i in range(0, n , minibatch_size):\n",
        "        X_batch = X[i:i + minibatch_size, ...]\n",
        "        y_batch = y[i:i + minibatch_size, ...]\n",
        "\n",
        "        minibatches.append((X_batch, y_batch))\n",
        "    return minibatches"
      ],
      "execution_count": 10,
      "outputs": []
    },
    {
      "cell_type": "code",
      "metadata": {
        "id": "pOfONQ0AqhqA"
      },
      "source": [
        "def train(net, X_train, y_train, minibatch_size, epoch, learning_rate, mu=0.9,\n",
        "          verbose=True, X_val=None, y_val=None, nesterov=True):\n",
        "    val_loss_epoch = []\n",
        "    minibatches = minibatch(X_train, y_train, minibatch_size)\n",
        "    minibatches_val = minibatch(X_val, y_val, minibatch_size)\n",
        "\n",
        "    c = 0 \n",
        "    for i in range(epoch):\n",
        "        loss_batch = []\n",
        "        val_loss_batch = []\n",
        "        velocity = []\n",
        "        for param_layer in net.params:\n",
        "            p = [np.zeros_like(param) for param in list(param_layer)]\n",
        "            velocity.append(p)\n",
        "\n",
        "        if verbose:\n",
        "            print(\"Epoch {0}\".format(i + 1))\n",
        "\n",
        "        # iterate over mini batches\n",
        "        # for X_mini, y_mini in tqdm(minibatches):\n",
        "        for X_mini, y_mini in minibatches:\n",
        "            loss, grads = net.train_step(X_mini, y_mini)\n",
        "            loss_batch.append(loss)\n",
        "            update(velocity, net.params, grads,\n",
        "                            learning_rate=learning_rate, mu=mu)\n",
        "\n",
        "        # for X_mini_val, y_mini_val in tqdm(minibatches_val):\n",
        "        for X_mini_val, y_mini_val in minibatches_val:\n",
        "            val_loss, _ = net.train_step(X_mini, y_mini)\n",
        "            val_loss_batch.append(val_loss)\n",
        "\n",
        "        # accuracy of model at end of epoch after all mini batch updates   \n",
        "        if verbose:\n",
        "            m_train = X_train.shape[0]\n",
        "            m_val = X_val.shape[0]\n",
        "            y_train_pred = np.array([], dtype=\"int64\")\n",
        "            y_val_pred = np.array([], dtype=\"int64\")\n",
        "\n",
        "            for i in range(0, m_train, minibatch_size):\n",
        "                X_tr = X_train[i:i + minibatch_size, : ]\n",
        "                y_tr = y_train[i:i + minibatch_size, ]\n",
        "                y_train_pred = np.append(y_train_pred, net.predict(X_tr))\n",
        "\n",
        "            for i in range(0, m_val, minibatch_size):\n",
        "                X_va = X_val[i:i + minibatch_size, : ]\n",
        "                y_va = y_val[i:i + minibatch_size, ]\n",
        "                y_val_pred = np.append(y_val_pred, net.predict(X_va))\n",
        "\n",
        "            train_acc = check_accuracy(y_train, y_train_pred)\n",
        "            val_acc = check_accuracy(y_val, y_val_pred)\n",
        "\n",
        "            mean_train_loss = sum(loss_batch) / float(len(loss_batch))\n",
        "            mean_val_loss = sum(val_loss_batch) / float(len(val_loss_batch))\n",
        "\n",
        "            # early stopping with patience = 5 on val loss\n",
        "            if len(val_loss_epoch) == 0:\n",
        "                val_loss_epoch.append(mean_val_loss)\n",
        "            else:\n",
        "                for j in val_loss_epoch[-5:]:\n",
        "                    if mean_val_loss > j:\n",
        "                        c += 1\n",
        "                    else:\n",
        "                        c = 0\n",
        "                if c > 5:\n",
        "                    print('Early stopping')\n",
        "                    return net\n",
        "                else:\n",
        "                    c = 0\n",
        "                    val_loss_epoch.append(mean_val_loss)    \n",
        "\n",
        "            print(\"Loss = {0} | Training Accuracy = {1} | \" \\\n",
        "                  \"Val Loss = {2} | Val Accuracy = {3}\".format(\n",
        "                mean_train_loss, train_acc, mean_val_loss, val_acc))\n",
        "    return net"
      ],
      "execution_count": 11,
      "outputs": []
    },
    {
      "cell_type": "code",
      "metadata": {
        "colab": {
          "base_uri": "https://localhost:8080/"
        },
        "id": "Fad8x1_IqhqB",
        "outputId": "5e1e620b-8bcb-4076-8b1e-f401c5d7db24"
      },
      "source": [
        "# Get preprocessed training and validation data\n",
        "\n",
        "X_train = np.array([\n",
        "    [1, 2, 1, 2],\n",
        "    [2, 4, 2, 4],\n",
        "    [2, 1, 2, 1],\n",
        "    [4, 2, 4, 2],\n",
        "])\n",
        "\n",
        "y_train = np.array([0, 1, 0, 1])\n",
        "X_val = X_train.copy()\n",
        "y_val = y_train.copy()\n",
        "\n",
        "print(X_train.shape)\n",
        "print(X_val.shape)\n",
        "\n",
        "# define neural net\n",
        "model = NN()\n",
        "\n",
        "# add some layers\n",
        "model.add_layer(Linear(4, 100))\n",
        "model.add_layer(ReLU())\n",
        "model.add_layer(Linear(100, 100))\n",
        "model.add_layer(ReLU())\n",
        "model.add_layer(Linear(100, 2))\n",
        "\n",
        "model = train(model, X_train , y_train, minibatch_size=4, epoch=100,\n",
        "           learning_rate=0.1, X_val=X_val, y_val=y_val)"
      ],
      "execution_count": 12,
      "outputs": [
        {
          "output_type": "stream",
          "text": [
            "(4, 4)\n",
            "(4, 4)\n",
            "Epoch 1\n",
            "Loss = 0.7416110089195137 | Training Accuracy = 0.5 | Val Loss = 0.6887695024737084 | Val Accuracy = 0.5\n",
            "Epoch 2\n",
            "Loss = 0.6887695024737084 | Training Accuracy = 0.5 | Val Loss = 0.6803123566123378 | Val Accuracy = 0.5\n",
            "Epoch 3\n",
            "Loss = 0.6803123566123378 | Training Accuracy = 0.5 | Val Loss = 0.6775512773446853 | Val Accuracy = 0.5\n",
            "Epoch 4\n",
            "Loss = 0.6775512773446853 | Training Accuracy = 0.5 | Val Loss = 0.6756828167244704 | Val Accuracy = 0.5\n",
            "Epoch 5\n",
            "Loss = 0.6756828167244704 | Training Accuracy = 0.5 | Val Loss = 0.6739691129059541 | Val Accuracy = 0.5\n",
            "Epoch 6\n",
            "Loss = 0.6739691129059541 | Training Accuracy = 0.5 | Val Loss = 0.6722872774552472 | Val Accuracy = 0.5\n",
            "Epoch 7\n",
            "Loss = 0.6722872774552472 | Training Accuracy = 0.5 | Val Loss = 0.6706007461942906 | Val Accuracy = 0.5\n",
            "Epoch 8\n",
            "Loss = 0.6706007461942906 | Training Accuracy = 0.5 | Val Loss = 0.6689200998478211 | Val Accuracy = 0.5\n",
            "Epoch 9\n",
            "Loss = 0.6689200998478211 | Training Accuracy = 0.5 | Val Loss = 0.667263697116572 | Val Accuracy = 0.5\n",
            "Epoch 10\n",
            "Loss = 0.667263697116572 | Training Accuracy = 0.5 | Val Loss = 0.665605615459113 | Val Accuracy = 0.5\n",
            "Epoch 11\n",
            "Loss = 0.665605615459113 | Training Accuracy = 0.5 | Val Loss = 0.6639289155162086 | Val Accuracy = 0.5\n",
            "Epoch 12\n",
            "Loss = 0.6639289155162086 | Training Accuracy = 0.5 | Val Loss = 0.6622612254298023 | Val Accuracy = 0.5\n",
            "Epoch 13\n",
            "Loss = 0.6622612254298023 | Training Accuracy = 0.5 | Val Loss = 0.6605839649826901 | Val Accuracy = 0.5\n",
            "Epoch 14\n",
            "Loss = 0.6605839649826901 | Training Accuracy = 0.5 | Val Loss = 0.6588659759884421 | Val Accuracy = 0.5\n",
            "Epoch 15\n",
            "Loss = 0.6588659759884421 | Training Accuracy = 0.5 | Val Loss = 0.6571573569068047 | Val Accuracy = 0.5\n",
            "Epoch 16\n",
            "Loss = 0.6571573569068047 | Training Accuracy = 0.5 | Val Loss = 0.6554391916391696 | Val Accuracy = 0.5\n",
            "Epoch 17\n",
            "Loss = 0.6554391916391696 | Training Accuracy = 0.5 | Val Loss = 0.6537314903067046 | Val Accuracy = 0.5\n",
            "Epoch 18\n",
            "Loss = 0.6537314903067046 | Training Accuracy = 0.5 | Val Loss = 0.6520162158831676 | Val Accuracy = 0.5\n",
            "Epoch 19\n",
            "Loss = 0.6520162158831676 | Training Accuracy = 0.5 | Val Loss = 0.6503041010399327 | Val Accuracy = 0.5\n",
            "Epoch 20\n",
            "Loss = 0.6503041010399327 | Training Accuracy = 0.5 | Val Loss = 0.648592680240379 | Val Accuracy = 0.5\n",
            "Epoch 21\n",
            "Loss = 0.648592680240379 | Training Accuracy = 0.5 | Val Loss = 0.6468808752292781 | Val Accuracy = 0.5\n",
            "Epoch 22\n",
            "Loss = 0.6468808752292781 | Training Accuracy = 0.5 | Val Loss = 0.6451682664705385 | Val Accuracy = 0.5\n",
            "Epoch 23\n",
            "Loss = 0.6451682664705385 | Training Accuracy = 0.5 | Val Loss = 0.6434545183064381 | Val Accuracy = 0.5\n",
            "Epoch 24\n",
            "Loss = 0.6434545183064381 | Training Accuracy = 0.5 | Val Loss = 0.6417397260776728 | Val Accuracy = 0.5\n",
            "Epoch 25\n",
            "Loss = 0.6417397260776728 | Training Accuracy = 0.5 | Val Loss = 0.6400229643859165 | Val Accuracy = 0.5\n",
            "Epoch 26\n",
            "Loss = 0.6400229643859165 | Training Accuracy = 0.5 | Val Loss = 0.6382761314796002 | Val Accuracy = 0.5\n",
            "Epoch 27\n",
            "Loss = 0.6382761314796002 | Training Accuracy = 0.5 | Val Loss = 0.6365509645396614 | Val Accuracy = 0.5\n",
            "Epoch 28\n",
            "Loss = 0.6365509645396614 | Training Accuracy = 0.5 | Val Loss = 0.6348233388121312 | Val Accuracy = 0.5\n",
            "Epoch 29\n",
            "Loss = 0.6348233388121312 | Training Accuracy = 0.5 | Val Loss = 0.6330928587814352 | Val Accuracy = 0.5\n",
            "Epoch 30\n",
            "Loss = 0.6330928587814352 | Training Accuracy = 0.5 | Val Loss = 0.6313592310146692 | Val Accuracy = 0.5\n",
            "Epoch 31\n",
            "Loss = 0.6313592310146692 | Training Accuracy = 0.5 | Val Loss = 0.6296221767262902 | Val Accuracy = 0.5\n",
            "Epoch 32\n",
            "Loss = 0.6296221767262902 | Training Accuracy = 0.5 | Val Loss = 0.6278814229968077 | Val Accuracy = 0.5\n",
            "Epoch 33\n",
            "Loss = 0.6278814229968077 | Training Accuracy = 0.5 | Val Loss = 0.6261367011012452 | Val Accuracy = 0.5\n",
            "Epoch 34\n",
            "Loss = 0.6261367011012452 | Training Accuracy = 0.5 | Val Loss = 0.6243877456092544 | Val Accuracy = 0.5\n",
            "Epoch 35\n",
            "Loss = 0.6243877456092544 | Training Accuracy = 0.5 | Val Loss = 0.6226342936895548 | Val Accuracy = 0.5\n",
            "Epoch 36\n",
            "Loss = 0.6226342936895548 | Training Accuracy = 0.5 | Val Loss = 0.6208851942166782 | Val Accuracy = 0.5\n",
            "Epoch 37\n",
            "Loss = 0.6208851942166782 | Training Accuracy = 0.5 | Val Loss = 0.6191394341641765 | Val Accuracy = 0.5\n",
            "Epoch 38\n",
            "Loss = 0.6191394341641765 | Training Accuracy = 0.5 | Val Loss = 0.6173571864883522 | Val Accuracy = 0.5\n",
            "Epoch 39\n",
            "Loss = 0.6173571864883522 | Training Accuracy = 0.5 | Val Loss = 0.6155831818547219 | Val Accuracy = 0.5\n",
            "Epoch 40\n",
            "Loss = 0.6155831818547219 | Training Accuracy = 0.5 | Val Loss = 0.6138043124421688 | Val Accuracy = 0.5\n",
            "Epoch 41\n",
            "Loss = 0.6138043124421688 | Training Accuracy = 0.5 | Val Loss = 0.6120194682865003 | Val Accuracy = 0.5\n",
            "Epoch 42\n",
            "Loss = 0.6120194682865003 | Training Accuracy = 0.5 | Val Loss = 0.6102283403469415 | Val Accuracy = 0.5\n",
            "Epoch 43\n",
            "Loss = 0.6102283403469415 | Training Accuracy = 0.5 | Val Loss = 0.6084306708308896 | Val Accuracy = 0.5\n",
            "Epoch 44\n",
            "Loss = 0.6084306708308896 | Training Accuracy = 0.5 | Val Loss = 0.6066262048025765 | Val Accuracy = 0.5\n",
            "Epoch 45\n",
            "Loss = 0.6066262048025765 | Training Accuracy = 0.5 | Val Loss = 0.6048146871357547 | Val Accuracy = 0.5\n",
            "Epoch 46\n",
            "Loss = 0.6048146871357547 | Training Accuracy = 0.5 | Val Loss = 0.6029958622754155 | Val Accuracy = 0.5\n",
            "Epoch 47\n",
            "Loss = 0.6029958622754155 | Training Accuracy = 0.5 | Val Loss = 0.6011629677244751 | Val Accuracy = 0.5\n",
            "Epoch 48\n",
            "Loss = 0.6011629677244751 | Training Accuracy = 0.5 | Val Loss = 0.5989850576709697 | Val Accuracy = 0.5\n",
            "Epoch 49\n",
            "Loss = 0.5989850576709697 | Training Accuracy = 0.5 | Val Loss = 0.5971149478460249 | Val Accuracy = 0.5\n",
            "Epoch 50\n",
            "Loss = 0.5971149478460249 | Training Accuracy = 0.5 | Val Loss = 0.5952416719874436 | Val Accuracy = 0.5\n",
            "Epoch 51\n",
            "Loss = 0.5952416719874436 | Training Accuracy = 0.5 | Val Loss = 0.5933598238699278 | Val Accuracy = 0.5\n",
            "Epoch 52\n",
            "Loss = 0.5933598238699278 | Training Accuracy = 0.5 | Val Loss = 0.5914689516337609 | Val Accuracy = 0.5\n",
            "Epoch 53\n",
            "Loss = 0.5914689516337609 | Training Accuracy = 0.5 | Val Loss = 0.5895703301457851 | Val Accuracy = 0.5\n",
            "Epoch 54\n",
            "Loss = 0.5895703301457851 | Training Accuracy = 0.5 | Val Loss = 0.5876623207359127 | Val Accuracy = 0.5\n",
            "Epoch 55\n",
            "Loss = 0.5876623207359127 | Training Accuracy = 0.5 | Val Loss = 0.585742540130471 | Val Accuracy = 0.5\n",
            "Epoch 56\n",
            "Loss = 0.585742540130471 | Training Accuracy = 0.5 | Val Loss = 0.5838130119906509 | Val Accuracy = 0.5\n",
            "Epoch 57\n",
            "Loss = 0.5838130119906509 | Training Accuracy = 0.5 | Val Loss = 0.5818730978144194 | Val Accuracy = 0.5\n",
            "Epoch 58\n",
            "Loss = 0.5818730978144194 | Training Accuracy = 0.5 | Val Loss = 0.5799225138347813 | Val Accuracy = 0.5\n",
            "Epoch 59\n",
            "Loss = 0.5799225138347813 | Training Accuracy = 0.5 | Val Loss = 0.5779609841290819 | Val Accuracy = 0.5\n",
            "Epoch 60\n",
            "Loss = 0.5779609841290819 | Training Accuracy = 0.5 | Val Loss = 0.575988232350102 | Val Accuracy = 0.5\n",
            "Epoch 61\n",
            "Loss = 0.575988232350102 | Training Accuracy = 0.5 | Val Loss = 0.5740039815106588 | Val Accuracy = 0.5\n",
            "Epoch 62\n",
            "Loss = 0.5740039815106588 | Training Accuracy = 0.5 | Val Loss = 0.5720079539932955 | Val Accuracy = 0.5\n",
            "Epoch 63\n",
            "Loss = 0.5720079539932955 | Training Accuracy = 0.5 | Val Loss = 0.5699998715796779 | Val Accuracy = 0.5\n",
            "Epoch 64\n",
            "Loss = 0.5699998715796779 | Training Accuracy = 0.5 | Val Loss = 0.5679794554894041 | Val Accuracy = 0.5\n",
            "Epoch 65\n",
            "Loss = 0.5679794554894041 | Training Accuracy = 0.5 | Val Loss = 0.5659464264272621 | Val Accuracy = 0.5\n",
            "Epoch 66\n",
            "Loss = 0.5659464264272621 | Training Accuracy = 0.5 | Val Loss = 0.56390050463898 | Val Accuracy = 0.5\n",
            "Epoch 67\n",
            "Loss = 0.56390050463898 | Training Accuracy = 0.5 | Val Loss = 0.5618414099756756 | Val Accuracy = 0.5\n",
            "Epoch 68\n",
            "Loss = 0.5618414099756756 | Training Accuracy = 0.5 | Val Loss = 0.5597688619672537 | Val Accuracy = 0.5\n",
            "Epoch 69\n",
            "Loss = 0.5597688619672537 | Training Accuracy = 0.5 | Val Loss = 0.5576825799050178 | Val Accuracy = 0.5\n",
            "Epoch 70\n",
            "Loss = 0.5576825799050178 | Training Accuracy = 0.5 | Val Loss = 0.5555822829337814 | Val Accuracy = 0.5\n",
            "Epoch 71\n",
            "Loss = 0.5555822829337814 | Training Accuracy = 0.5 | Val Loss = 0.5534676901537869 | Val Accuracy = 0.5\n",
            "Epoch 72\n",
            "Loss = 0.5534676901537869 | Training Accuracy = 0.5 | Val Loss = 0.5513385207327501 | Val Accuracy = 0.5\n",
            "Epoch 73\n",
            "Loss = 0.5513385207327501 | Training Accuracy = 0.5 | Val Loss = 0.5491944940283681 | Val Accuracy = 0.5\n",
            "Epoch 74\n",
            "Loss = 0.5491944940283681 | Training Accuracy = 0.5 | Val Loss = 0.5470353297216427 | Val Accuracy = 0.5\n",
            "Epoch 75\n",
            "Loss = 0.5470353297216427 | Training Accuracy = 0.5 | Val Loss = 0.5448607479613817 | Val Accuracy = 0.5\n",
            "Epoch 76\n",
            "Loss = 0.5448607479613817 | Training Accuracy = 0.5 | Val Loss = 0.5426720567264488 | Val Accuracy = 0.5\n",
            "Epoch 77\n",
            "Loss = 0.5426720567264488 | Training Accuracy = 0.5 | Val Loss = 0.5404709297052435 | Val Accuracy = 0.5\n",
            "Epoch 78\n",
            "Loss = 0.5404709297052435 | Training Accuracy = 0.5 | Val Loss = 0.5382479076657434 | Val Accuracy = 0.5\n",
            "Epoch 79\n",
            "Loss = 0.5382479076657434 | Training Accuracy = 0.5 | Val Loss = 0.5360091512685659 | Val Accuracy = 0.5\n",
            "Epoch 80\n",
            "Loss = 0.5360091512685659 | Training Accuracy = 0.5 | Val Loss = 0.5337535995227453 | Val Accuracy = 0.5\n",
            "Epoch 81\n",
            "Loss = 0.5337535995227453 | Training Accuracy = 0.5 | Val Loss = 0.5314809779163969 | Val Accuracy = 0.5\n",
            "Epoch 82\n",
            "Loss = 0.5314809779163969 | Training Accuracy = 0.5 | Val Loss = 0.5292272008143308 | Val Accuracy = 0.5\n",
            "Epoch 83\n",
            "Loss = 0.5292272008143308 | Training Accuracy = 0.5 | Val Loss = 0.5269598040217005 | Val Accuracy = 0.5\n",
            "Epoch 84\n",
            "Loss = 0.5269598040217005 | Training Accuracy = 1.0 | Val Loss = 0.524614152196472 | Val Accuracy = 1.0\n",
            "Epoch 85\n",
            "Loss = 0.524614152196472 | Training Accuracy = 1.0 | Val Loss = 0.5222667883125806 | Val Accuracy = 1.0\n",
            "Epoch 86\n",
            "Loss = 0.5222667883125806 | Training Accuracy = 1.0 | Val Loss = 0.5199043091558648 | Val Accuracy = 1.0\n",
            "Epoch 87\n",
            "Loss = 0.5199043091558648 | Training Accuracy = 1.0 | Val Loss = 0.5175253048129731 | Val Accuracy = 1.0\n",
            "Epoch 88\n",
            "Loss = 0.5175253048129731 | Training Accuracy = 1.0 | Val Loss = 0.5151274530120801 | Val Accuracy = 1.0\n",
            "Epoch 89\n",
            "Loss = 0.5151274530120801 | Training Accuracy = 1.0 | Val Loss = 0.5127104663837593 | Val Accuracy = 1.0\n",
            "Epoch 90\n",
            "Loss = 0.5127104663837593 | Training Accuracy = 1.0 | Val Loss = 0.5102740958195118 | Val Accuracy = 1.0\n",
            "Epoch 91\n",
            "Loss = 0.5102740958195118 | Training Accuracy = 1.0 | Val Loss = 0.5078180986879571 | Val Accuracy = 1.0\n",
            "Epoch 92\n",
            "Loss = 0.5078180986879571 | Training Accuracy = 1.0 | Val Loss = 0.5053282132174303 | Val Accuracy = 1.0\n",
            "Epoch 93\n",
            "Loss = 0.5053282132174303 | Training Accuracy = 1.0 | Val Loss = 0.5019465213742278 | Val Accuracy = 1.0\n",
            "Epoch 94\n",
            "Loss = 0.5019465213742278 | Training Accuracy = 1.0 | Val Loss = 0.49936028002119487 | Val Accuracy = 1.0\n",
            "Epoch 95\n",
            "Loss = 0.49936028002119487 | Training Accuracy = 1.0 | Val Loss = 0.4968014091049477 | Val Accuracy = 1.0\n",
            "Epoch 96\n",
            "Loss = 0.4968014091049477 | Training Accuracy = 1.0 | Val Loss = 0.49459999894388784 | Val Accuracy = 1.0\n",
            "Epoch 97\n",
            "Loss = 0.49459999894388784 | Training Accuracy = 1.0 | Val Loss = 0.4917170607523443 | Val Accuracy = 1.0\n",
            "Epoch 98\n",
            "Loss = 0.4917170607523443 | Training Accuracy = 1.0 | Val Loss = 0.48903816777106734 | Val Accuracy = 1.0\n",
            "Epoch 99\n",
            "Loss = 0.48903816777106734 | Training Accuracy = 1.0 | Val Loss = 0.48635904367238086 | Val Accuracy = 1.0\n",
            "Epoch 100\n",
            "Loss = 0.48635904367238086 | Training Accuracy = 1.0 | Val Loss = 0.48363884399569446 | Val Accuracy = 1.0\n"
          ],
          "name": "stdout"
        }
      ]
    },
    {
      "cell_type": "markdown",
      "metadata": {
        "id": "nasalrYhqhqC"
      },
      "source": [
        "## Mnist training"
      ]
    },
    {
      "cell_type": "code",
      "metadata": {
        "id": "GBnh0t5wqhqD"
      },
      "source": [
        "from sklearn.datasets import fetch_openml\n",
        "from sklearn.model_selection import train_test_split"
      ],
      "execution_count": 13,
      "outputs": []
    },
    {
      "cell_type": "code",
      "metadata": {
        "id": "b5WLrrZbqhqE"
      },
      "source": [
        "X, y = fetch_openml('mnist_784', version=1, return_X_y=True)"
      ],
      "execution_count": 14,
      "outputs": []
    },
    {
      "cell_type": "code",
      "metadata": {
        "collapsed": true,
        "id": "0W1H-iRHqhqF"
      },
      "source": [
        "y = y.astype(np.int32)\n",
        "X_train, X_val, y_train, y_val = train_test_split(X, y, \n",
        "                                                  test_size=0.25,\n",
        "                                                  shuffle=True,\n",
        "                                                  random_state=0)"
      ],
      "execution_count": 15,
      "outputs": []
    },
    {
      "cell_type": "code",
      "metadata": {
        "collapsed": true,
        "id": "Nb7XAVXnqhqG"
      },
      "source": [
        "import matplotlib.pyplot as plt\n",
        "%matplotlib inline"
      ],
      "execution_count": 16,
      "outputs": []
    },
    {
      "cell_type": "code",
      "metadata": {
        "id": "87iNgx8uqhqH",
        "colab": {
          "base_uri": "https://localhost:8080/",
          "height": 264
        },
        "outputId": "8c47f275-3d21-46d9-ddb9-39448ea2ecfc"
      },
      "source": [
        "# visualize data\n",
        "def vis(img, label):\n",
        "    plt.imshow(img, cmap='gray')\n",
        "    plt.title(label)\n",
        "    plt.axis('off')\n",
        "    plt.show()\n",
        "\n",
        "vis_idx = 0\n",
        "vis(X_train[vis_idx].reshape(-1, 28), y_train[vis_idx])"
      ],
      "execution_count": 17,
      "outputs": [
        {
          "output_type": "display_data",
          "data": {
            "image/png": "[encoded data removed]",
            "text/plain": [
              "<Figure size 432x288 with 1 Axes>"
            ]
          },
          "metadata": {
            "tags": [],
            "needs_background": "light"
          }
        }
      ]
    },
    {
      "cell_type": "code",
      "metadata": {
        "colab": {
          "base_uri": "https://localhost:8080/"
        },
        "id": "JFUz9i2qqhqJ",
        "outputId": "6c2fc05d-7db7-4091-c267-6e30cfc6a087"
      },
      "source": [
        "print(X_train.shape)\n",
        "print(X_val.shape)\n",
        "\n",
        "# define neural net\n",
        "model = NN()\n",
        "\n",
        "# add some layers\n",
        "model.add_layer(Linear(X_train.shape[1], 100))\n",
        "model.add_layer(ReLU())\n",
        "model.add_layer(Linear(100, 100))\n",
        "model.add_layer(ReLU())\n",
        "model.add_layer(Linear(100, 10))\n",
        "\n",
        "model = train(model, X_train , y_train, minibatch_size=128, epoch=10,\n",
        "           learning_rate=0.001, X_val=X_val, y_val=y_val)"
      ],
      "execution_count": 18,
      "outputs": [
        {
          "output_type": "stream",
          "text": [
            "(52500, 784)\n",
            "(17500, 784)\n",
            "Epoch 1\n",
            "Loss = 0.9133596840510689 | Training Accuracy = 0.9224 | Val Loss = 0.3231424224867492 | Val Accuracy = 0.9127428571428572\n",
            "Epoch 2\n",
            "Loss = 0.31530895630364386 | Training Accuracy = 0.9393714285714285 | Val Loss = 0.3256227408821692 | Val Accuracy = 0.9261714285714285\n",
            "Epoch 3\n",
            "Loss = 0.2690384821553248 | Training Accuracy = 0.9488952380952381 | Val Loss = 0.3175217670584186 | Val Accuracy = 0.9364571428571429\n",
            "Epoch 4\n",
            "Loss = 0.24063136944324126 | Training Accuracy = 0.9558666666666666 | Val Loss = 0.2446275841940419 | Val Accuracy = 0.9410857142857143\n",
            "Epoch 5\n",
            "Loss = 0.22174070234890472 | Training Accuracy = 0.9631809523809524 | Val Loss = 0.22273211163441764 | Val Accuracy = 0.9466285714285714\n",
            "Epoch 6\n",
            "Loss = 0.2060316547647717 | Training Accuracy = 0.9659238095238095 | Val Loss = 0.21248556584705294 | Val Accuracy = 0.9479428571428572\n",
            "Epoch 7\n",
            "Loss = 0.1955436448219298 | Training Accuracy = 0.968704761904762 | Val Loss = 0.21049479748190056 | Val Accuracy = 0.9504571428571429\n",
            "Epoch 8\n",
            "Loss = 0.18651728123558245 | Training Accuracy = 0.9709523809523809 | Val Loss = 0.18655639248436376 | Val Accuracy = 0.9520571428571428\n",
            "Epoch 9\n",
            "Loss = 0.1779018972961856 | Training Accuracy = 0.9723428571428572 | Val Loss = 0.18293057945066585 | Val Accuracy = 0.9528571428571428\n",
            "Epoch 10\n",
            "Loss = 0.17068081107506636 | Training Accuracy = 0.9745904761904762 | Val Loss = 0.17997748470714026 | Val Accuracy = 0.9537142857142857\n"
          ],
          "name": "stdout"
        }
      ]
    },
    {
      "cell_type": "code",
      "metadata": {
        "colab": {
          "base_uri": "https://localhost:8080/",
          "height": 264
        },
        "id": "bPLSr2-CqhqL",
        "outputId": "d0da6bf4-11a2-4728-f019-96353e7093d3"
      },
      "source": [
        "# visualize prediction \n",
        "vis_idx = 1\n",
        "pred = model.predict(X_val[vis_idx])\n",
        "vis(X_val[vis_idx].reshape(-1, 28), pred[0])"
      ],
      "execution_count": 19,
      "outputs": [
        {
          "output_type": "display_data",
          "data": {
            "image/png": "[encoded data removed]",
            "text/plain": [
              "<Figure size 432x288 with 1 Axes>"
            ]
          },
          "metadata": {
            "tags": [],
            "needs_background": "light"
          }
        }
      ]
    },
    {
      "cell_type": "code",
      "metadata": {
        "colab": {
          "base_uri": "https://localhost:8080/",
          "height": 292
        },
        "id": "VODz-x2iakIr",
        "outputId": "44701fca-e6a0-44a8-fdb6-7d4eb49ee43e"
      },
      "source": [
        "# visualize first layer mean weights\n",
        "t = model.layers[0].W.mean(axis=1).reshape(28, 28)\n",
        "plt.matshow(t)"
      ],
      "execution_count": 20,
      "outputs": [
        {
          "output_type": "execute_result",
          "data": {
            "text/plain": [
              "<matplotlib.image.AxesImage at 0x7f5dd78b6a58>"
            ]
          },
          "metadata": {
            "tags": []
          },
          "execution_count": 20
        },
        {
          "output_type": "display_data",
          "data": {
            "image/png": "[encoded data removed]",
            "text/plain": [
              "<Figure size 288x288 with 1 Axes>"
            ]
          },
          "metadata": {
            "tags": [],
            "needs_background": "light"
          }
        }
      ]
    }
  ]
}