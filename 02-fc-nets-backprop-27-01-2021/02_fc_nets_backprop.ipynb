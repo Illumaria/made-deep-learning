{
 "cells": [
  {
   "cell_type": "code",
   "execution_count": 1,
   "metadata": {
    "collapsed": true
   },
   "outputs": [],
   "source": [
    "import numpy as np \n",
    "import _pickle as cPickle\n",
    "import gzip\n",
    "import os\n",
    "from sklearn.utils import shuffle\n",
    "from tqdm import tqdm"
   ]
  },
  {
   "cell_type": "code",
   "execution_count": 2,
   "metadata": {
    "collapsed": true
   },
   "outputs": [],
   "source": [
    "# utility functions\n",
    "\n",
    "def one_hot_encoded(y, num_class):\n",
    "    n = y.shape[0]\n",
    "    onehot = np.zeros((n, num_class), dtype=\"int32\")\n",
    "    for i in range(n):\n",
    "        idx = y[i]\n",
    "        onehot[i][idx] = 1\n",
    "    return onehot\n",
    "\n",
    "\n",
    "def check_accuracy(y_true, y_pred):\n",
    "    return np.mean(y_pred == y_true)  # both are not one hot encoded\n",
    "\n",
    "\n",
    "def softmax(x):\n",
    "    # YOUR CODE HERE\n",
    "    \n",
    "# l2 regularization\n",
    "def l2_reg(layers, lam=0.001):\n",
    "    reg_loss = 0.0\n",
    "    for layer in layers:\n",
    "        if hasattr(layer, 'W'):\n",
    "            reg_loss += 0.5 * lam * np.sum(layer.W * layer.W)\n",
    "    return reg_loss\n",
    "\n",
    "\n",
    "# l2 regularization grad\n",
    "def delta_l2_reg(layers, grads, lam=0.001):\n",
    "    for layer, grad in zip(layers, reversed(grads)):\n",
    "        if hasattr(layer, 'W'):\n",
    "            grad[0] += lam * layer.W\n",
    "    return grads\n"
   ]
  },
  {
   "cell_type": "code",
   "execution_count": 20,
   "metadata": {
    "collapsed": true
   },
   "outputs": [],
   "source": [
    "def eval_numerical_gradient(f, x, verbose=False, h=0.00001):\n",
    "    \"\"\"Evaluates gradient df/dx via finite differences:\n",
    "    df/dx ~ (f(x+h) - f(x-h)) / 2h\n",
    "    Adopted from https://github.com/ddtm/dl-course/\n",
    "    \"\"\"\n",
    "    fx = f(x) # evaluate function value at original point\n",
    "    grad = np.zeros_like(x)\n",
    "    # iterate over all indexes in x\n",
    "    it = np.nditer(x, flags=['multi_index'], op_flags=['readwrite'])\n",
    "    while not it.finished:\n",
    "\n",
    "        # evaluate function at x+h\n",
    "        ix = it.multi_index\n",
    "        oldval = x[ix]\n",
    "        x[ix] = oldval + h # increment by h\n",
    "        fxph = f(x) # evalute f(x + h)\n",
    "        x[ix] = oldval - h\n",
    "        fxmh = f(x) # evaluate f(x - h)\n",
    "        x[ix] = oldval # restore\n",
    "\n",
    "        # compute the partial derivative with centered formula\n",
    "        grad[ix] = (fxph - fxmh) / (2 * h) # the slope\n",
    "        if verbose:\n",
    "            print (ix, grad[ix])\n",
    "        it.iternext() # step to next dimension\n",
    "\n",
    "    return grad"
   ]
  },
  {
   "cell_type": "code",
   "execution_count": 3,
   "metadata": {
    "collapsed": true
   },
   "outputs": [],
   "source": [
    "class ReLU():\n",
    "    def __init__(self):\n",
    "        self.params = []\n",
    "        self.gradInput = None\n",
    "\n",
    "    def forward(self, X, mode):\n",
    "        # YOUR CODE HERE\n",
    "        pass\n",
    "    \n",
    "    def backward(self, dout, mode):\n",
    "        # YOUR CODE HERE\n",
    "        pass"
   ]
  },
  {
   "cell_type": "code",
   "execution_count": 5,
   "metadata": {
    "collapsed": false
   },
   "outputs": [
    {
     "name": "stdout",
     "output_type": "stream",
     "text": [
      "[[0. 0. 0. 0. 0. 0. 0. 0. 0. 0. 0. 0.]\n",
      " [0. 0. 0. 0. 0. 0. 0. 0. 0. 0. 0. 0.]\n",
      " [0. 0. 0. 0. 0. 0. 0. 0. 0. 0. 0. 0.]\n",
      " [0. 0. 0. 0. 0. 0. 0. 0. 0. 0. 0. 0.]\n",
      " [0. 0. 0. 0. 0. 0. 0. 0. 0. 0. 0. 0.]\n",
      " [1. 1. 1. 1. 1. 1. 1. 1. 1. 1. 1. 1.]\n",
      " [1. 1. 1. 1. 1. 1. 1. 1. 1. 1. 1. 1.]\n",
      " [1. 1. 1. 1. 1. 1. 1. 1. 1. 1. 1. 1.]\n",
      " [1. 1. 1. 1. 1. 1. 1. 1. 1. 1. 1. 1.]\n",
      " [1. 1. 1. 1. 1. 1. 1. 1. 1. 1. 1. 1.]]\n"
     ]
    }
   ],
   "source": [
    "points = np.linspace(-1, 1, 10*12).reshape([10, 12])\n",
    "relu = ReLU()\n",
    "f = lambda x: relu.forward(x, mode='train').sum(axis=1).sum()\n",
    "res = f(points)\n",
    "numeric_grads = eval_numerical_gradient(f, points)\n",
    "print(numeric_grads)\n",
    "inp_grad = np.ones(shape=(10, 12))\n",
    "grads = relu.backward(inp_grad, mode='train')[0]\n",
    "assert np.allclose(grads, numeric_grads, rtol=1e-3, atol=0)"
   ]
  },
  {
   "cell_type": "code",
   "execution_count": 6,
   "metadata": {
    "collapsed": true
   },
   "outputs": [],
   "source": [
    "class Linear():\n",
    "\n",
    "    def __init__(self, in_size, out_size):\n",
    "\n",
    "        # Xavier init\n",
    "        self.W = np.random.randn(in_size, out_size) / np.sqrt(in_size + out_size/ 2.)\n",
    "        self.b = np.zeros((1, out_size))\n",
    "        self.params = [self.W, self.b]\n",
    "        self.gradW = None\n",
    "        self.gradB = None\n",
    "        self.gradInput = None\n",
    "\n",
    "    def forward(self, X, mode):\n",
    "        # YOUR CODE HERE\n",
    "        pass\n",
    "    \n",
    "    def backward(self, dout, mode):\n",
    "        # YOUR CODE HERE\n",
    "        pass"
   ]
  },
  {
   "cell_type": "code",
   "execution_count": 7,
   "metadata": {
    "collapsed": false
   },
   "outputs": [
    {
     "name": "stdout",
     "output_type": "stream",
     "text": [
      "[[ 0.70434511 -0.42519508 -0.695472   -0.76625294  0.21195665 -0.82354702\n",
      "  -0.05577046 -0.48575534  0.04644955 -0.24100405  0.28731923 -0.85151743]\n",
      " [ 0.70434511 -0.42519508 -0.695472   -0.76625294  0.21195665 -0.82354702\n",
      "  -0.05577046 -0.48575534  0.04644955 -0.24100405  0.28731923 -0.85151743]\n",
      " [ 0.70434511 -0.42519508 -0.695472   -0.76625294  0.21195665 -0.82354702\n",
      "  -0.05577046 -0.48575534  0.04644955 -0.24100405  0.28731923 -0.85151743]\n",
      " [ 0.70434511 -0.42519508 -0.695472   -0.76625294  0.21195665 -0.82354702\n",
      "  -0.05577046 -0.48575534  0.04644955 -0.24100405  0.28731923 -0.85151743]\n",
      " [ 0.70434511 -0.42519508 -0.695472   -0.76625294  0.21195665 -0.82354702\n",
      "  -0.05577046 -0.48575534  0.04644955 -0.24100405  0.28731923 -0.85151743]\n",
      " [ 0.70434511 -0.42519508 -0.695472   -0.76625294  0.21195665 -0.82354702\n",
      "  -0.05577046 -0.48575534  0.04644955 -0.24100405  0.28731923 -0.85151743]\n",
      " [ 0.70434511 -0.42519508 -0.695472   -0.76625294  0.21195665 -0.82354702\n",
      "  -0.05577046 -0.48575534  0.04644955 -0.24100405  0.28731923 -0.85151743]\n",
      " [ 0.70434511 -0.42519508 -0.695472   -0.76625294  0.21195665 -0.82354702\n",
      "  -0.05577046 -0.48575534  0.04644955 -0.24100405  0.28731923 -0.85151743]\n",
      " [ 0.70434511 -0.42519508 -0.695472   -0.76625294  0.21195665 -0.82354702\n",
      "  -0.05577046 -0.48575534  0.04644955 -0.24100405  0.28731923 -0.85151743]\n",
      " [ 0.70434511 -0.42519508 -0.695472   -0.76625294  0.21195665 -0.82354702\n",
      "  -0.05577046 -0.48575534  0.04644955 -0.24100405  0.28731923 -0.85151743]]\n"
     ]
    }
   ],
   "source": [
    "points = np.linspace(-1, 1, 10*12).reshape([10, 12])\n",
    "relu = Linear(12, 5)\n",
    "f = lambda x: relu.forward(x, mode='train').sum(axis=1).sum()\n",
    "res = f(points)\n",
    "numeric_grads = eval_numerical_gradient(f, points)\n",
    "print(numeric_grads)\n",
    "inp_grad = np.ones(shape=(10, 5))\n",
    "grads = relu.backward(inp_grad, mode='train')[0]\n",
    "assert np.allclose(grads, numeric_grads, rtol=1e-3, atol=0)"
   ]
  },
  {
   "cell_type": "code",
   "execution_count": 8,
   "metadata": {
    "collapsed": true
   },
   "outputs": [],
   "source": [
    "class CrossEntropyLoss(object):\n",
    "\n",
    "    def forward(self, X, y):\n",
    "        # YOUR CODE HERE\n",
    "        pass\n",
    "    \n",
    "    def backward(self, X, y):\n",
    "        # YOUR CODE HERE\n",
    "        pass"
   ]
  },
  {
   "cell_type": "markdown",
   "metadata": {},
   "source": [
    "## NN implementation"
   ]
  },
  {
   "cell_type": "code",
   "execution_count": 9,
   "metadata": {
    "collapsed": false
   },
   "outputs": [],
   "source": [
    "class NN:\n",
    "\n",
    "    def __init__(self, loss_func=CrossEntropyLoss(), mode = 'train'):\n",
    "    \n",
    "        self.layers = []\n",
    "        self.params = []\n",
    "        self.loss_func = loss_func\n",
    "        self.grads = []\n",
    "        self.mode = mode\n",
    "\n",
    "    def add_layer(self,layer):\n",
    "        self.layers.append(layer)\n",
    "        self.params.append(layer.params)\n",
    "\n",
    "    def forward(self, X):\n",
    "        for layer in self.layers:\n",
    "            X = layer.forward(X, self.mode)\n",
    "        return X\n",
    "\n",
    "    def backward(self, dout):\n",
    "        self.clear_grad_param()\n",
    "        for layer in reversed(self.layers):\n",
    "            dout, grad = layer.backward(dout, self.mode)\n",
    "            self.grads.append(grad)\n",
    "        return self.grads\n",
    "\n",
    "    def train_step(self, X, y):\n",
    "        out = self.forward(X)\n",
    "        loss = self.loss_func.forward(out,y)\n",
    "        dout = self.loss_func.backward(out,y)\n",
    "        loss += l2_reg(self.layers)\n",
    "        grads = self.backward(dout)\n",
    "        grads = delta_l2_reg(self.layers, grads)\n",
    "        return loss, grads\n",
    "\n",
    "    def predict(self, X):\n",
    "        X = self.forward(X)\n",
    "        return np.argmax(softmax(X), axis=1)\n",
    "\n",
    "\n",
    "    def dispGradParam():\n",
    "        print(self.grads)\n",
    "    \n",
    "\n",
    "    def clear_grad_param(self):\n",
    "        self.grads = []"
   ]
  },
  {
   "cell_type": "code",
   "execution_count": 10,
   "metadata": {
    "collapsed": true
   },
   "outputs": [],
   "source": [
    "# SGD with momentum\n",
    "def update(velocity, params, grads, learning_rate=0.001, mu=0.9):\n",
    "    for v, p, g, in zip(velocity, params, reversed(grads)):\n",
    "        for i in range(len(g)):\n",
    "            v[i] = mu * v[i] + learning_rate * g[i]\n",
    "            p[i] -= v[i]\n",
    "\n",
    "\n",
    "# get minibatches\n",
    "def minibatch(X, y, minibatch_size):\n",
    "    n = X.shape[0]\n",
    "    minibatches = []\n",
    "    X, y = shuffle(X, y)\n",
    "\n",
    "    for i in range(0, n , minibatch_size):\n",
    "        X_batch = X[i:i + minibatch_size, ...]\n",
    "        y_batch = y[i:i + minibatch_size, ...]\n",
    "\n",
    "        minibatches.append((X_batch, y_batch))\n",
    "    return minibatches\n"
   ]
  },
  {
   "cell_type": "code",
   "execution_count": 11,
   "metadata": {
    "collapsed": false
   },
   "outputs": [],
   "source": [
    "def train(net, X_train, y_train, minibatch_size, epoch, learning_rate, mu=0.9,\n",
    "                 verbose=True, X_val=None, y_val=None, nesterov=True):\n",
    "    val_loss_epoch = []\n",
    "    minibatches = minibatch(X_train, y_train, minibatch_size)\n",
    "    minibatches_val = minibatch(X_val, y_val, minibatch_size)\n",
    "\n",
    "    c = 0 \n",
    "    for i in range(epoch):\n",
    "        loss_batch = []\n",
    "        val_loss_batch = []\n",
    "        velocity = []\n",
    "        for param_layer in net.params:\n",
    "            p = [np.zeros_like(param) for param in list(param_layer)]\n",
    "            velocity.append(p)\n",
    "\n",
    "        if verbose:\n",
    "            print(\"Epoch {0}\".format(i + 1))\n",
    "\n",
    "        # iterate over mini batches\n",
    "        for X_mini, y_mini in tqdm(minibatches):\n",
    "\n",
    "            loss, grads = net.train_step(X_mini, y_mini)\n",
    "            loss_batch.append(loss)\n",
    "            update(velocity, net.params, grads,\n",
    "                            learning_rate=learning_rate, mu=mu)\n",
    "\n",
    "        for X_mini_val, y_mini_val in tqdm(minibatches_val):\n",
    "            val_loss, _ = net.train_step(X_mini, y_mini)\n",
    "            val_loss_batch.append(val_loss)\n",
    "\n",
    "\n",
    "        # accuracy of model at end of epoch after all mini batch updates   \n",
    "\n",
    "        if verbose:\n",
    "            m_train = X_train.shape[0]\n",
    "            m_val = X_val.shape[0]\n",
    "            y_train_pred = np.array([], dtype=\"int64\")\n",
    "            y_val_pred = np.array([], dtype=\"int64\")\n",
    "\n",
    "            for i in range(0, m_train, minibatch_size):\n",
    "                X_tr = X_train[i:i + minibatch_size, : ]\n",
    "                y_tr = y_train[i:i + minibatch_size, ]\n",
    "                y_train_pred = np.append(y_train_pred, net.predict(X_tr))\n",
    "\n",
    "            for i in range(0, m_val, minibatch_size):\n",
    "                X_va = X_val[i:i + minibatch_size, : ]\n",
    "                y_va = y_val[i:i + minibatch_size, ]\n",
    "                y_val_pred = np.append(y_val_pred, net.predict(X_va))\n",
    "\n",
    "            train_acc = check_accuracy(y_train, y_train_pred)\n",
    "            val_acc = check_accuracy(y_val, y_val_pred)\n",
    "\n",
    "            mean_train_loss = sum(loss_batch) / float(len(loss_batch))\n",
    "            mean_val_loss = sum(val_loss_batch) / float(len(val_loss_batch))\n",
    "\n",
    "\n",
    "            # early stopping with patience = 5 on val loss\n",
    "\n",
    "            if len(val_loss_epoch) == 0:\n",
    "                val_loss_epoch.append(mean_val_loss)\n",
    "            else:\n",
    "                for j in val_loss_epoch[-5:]:\n",
    "                    if mean_val_loss > j:\n",
    "                        c += 1\n",
    "                    else:\n",
    "                        c = 0\n",
    "                if c > 5:\n",
    "                    print('Early stopping')\n",
    "                    return net\n",
    "                else:\n",
    "                    c = 0\n",
    "                    val_loss_epoch.append(mean_val_loss)    \n",
    "\n",
    "\n",
    "            print(\"Loss = {0} | Training Accuracy = {1} | Val Loss = {2} | Val Accuracy = {3}\".format(\n",
    "                mean_train_loss, train_acc, mean_val_loss, val_acc))\n",
    "    return net\n"
   ]
  },
  {
   "cell_type": "code",
   "execution_count": 12,
   "metadata": {
    "collapsed": false
   },
   "outputs": [
    {
     "name": "stderr",
     "output_type": "stream",
     "text": [
      "100%|██████████| 1/1 [00:00<00:00, 103.51it/s]\n",
      "100%|██████████| 1/1 [00:00<00:00, 189.47it/s]\n",
      "100%|██████████| 1/1 [00:00<00:00, 142.29it/s]\n",
      "100%|██████████| 1/1 [00:00<00:00, 271.02it/s]\n",
      "100%|██████████| 1/1 [00:00<00:00, 258.73it/s]\n",
      "100%|██████████| 1/1 [00:00<00:00, 347.33it/s]\n",
      "100%|██████████| 1/1 [00:00<00:00, 254.52it/s]\n",
      "100%|██████████| 1/1 [00:00<00:00, 302.84it/s]\n",
      "100%|██████████| 1/1 [00:00<00:00, 317.15it/s]\n",
      "100%|██████████| 1/1 [00:00<00:00, 81.26it/s]\n",
      "100%|██████████| 1/1 [00:00<00:00, 210.88it/s]\n",
      "  0%|          | 0/1 [00:00<?, ?it/s]"
     ]
    },
    {
     "name": "stdout",
     "output_type": "stream",
     "text": [
      "(4, 4)\n",
      "(4, 4)\n",
      "Epoch 1\n",
      "Loss = 0.724200893189629 | Training Accuracy = 0.5 | Val Loss = 0.6829919136500852 | Val Accuracy = 0.5\n",
      "Epoch 2\n",
      "Loss = 0.6829919136500852 | Training Accuracy = 0.5 | Val Loss = 0.6758716752809825 | Val Accuracy = 0.5\n",
      "Epoch 3\n",
      "Loss = 0.6758716752809825 | Training Accuracy = 0.5 | Val Loss = 0.6691250755881628 | Val Accuracy = 0.5\n",
      "Epoch 4\n",
      "Loss = 0.6691250755881628 | Training Accuracy = 0.5 | Val Loss = 0.6625058244062286 | Val Accuracy = 0.5\n",
      "Epoch 5\n",
      "Loss = 0.6625058244062286 | Training Accuracy = 0.5 | Val Loss = 0.6559915498854484 | Val Accuracy = 0.5\n",
      "Epoch 6\n"
     ]
    },
    {
     "name": "stderr",
     "output_type": "stream",
     "text": [
      "100%|██████████| 1/1 [00:00<00:00, 65.92it/s]\n",
      "100%|██████████| 1/1 [00:00<00:00, 408.32it/s]\n",
      "100%|██████████| 1/1 [00:00<00:00, 181.29it/s]\n",
      "100%|██████████| 1/1 [00:00<00:00, 332.22it/s]\n",
      "100%|██████████| 1/1 [00:00<00:00, 206.95it/s]\n",
      "100%|██████████| 1/1 [00:00<00:00, 447.06it/s]\n",
      "100%|██████████| 1/1 [00:00<00:00, 176.47it/s]\n",
      "100%|██████████| 1/1 [00:00<00:00, 257.32it/s]\n",
      "100%|██████████| 1/1 [00:00<00:00, 600.56it/s]\n",
      "100%|██████████| 1/1 [00:00<00:00, 92.46it/s]\n",
      "100%|██████████| 1/1 [00:00<00:00, 296.56it/s]\n",
      "100%|██████████| 1/1 [00:00<00:00, 89.81it/s]\n",
      "  0%|          | 0/1 [00:00<?, ?it/s]"
     ]
    },
    {
     "name": "stdout",
     "output_type": "stream",
     "text": [
      "Loss = 0.6559915498854484 | Training Accuracy = 0.5 | Val Loss = 0.6495617550333412 | Val Accuracy = 0.5\n",
      "Epoch 7\n",
      "Loss = 0.6495617550333412 | Training Accuracy = 0.5 | Val Loss = 0.6432008527507389 | Val Accuracy = 0.5\n",
      "Epoch 8\n",
      "Loss = 0.6432008527507389 | Training Accuracy = 0.5 | Val Loss = 0.6368986376570035 | Val Accuracy = 0.5\n",
      "Epoch 9\n",
      "Loss = 0.6368986376570035 | Training Accuracy = 0.5 | Val Loss = 0.6306433333438293 | Val Accuracy = 0.5\n",
      "Epoch 10\n",
      "Loss = 0.6306433333438293 | Training Accuracy = 0.5 | Val Loss = 0.6244214980681908 | Val Accuracy = 0.5\n",
      "Epoch 11\n",
      "Loss = 0.6244214980681908 | Training Accuracy = 0.5 | Val Loss = 0.6182323264220194 | Val Accuracy = 0.5\n",
      "Epoch 12\n"
     ]
    },
    {
     "name": "stderr",
     "output_type": "stream",
     "text": [
      "100%|██████████| 1/1 [00:00<00:00, 32.25it/s]\n",
      "100%|██████████| 1/1 [00:00<00:00, 138.37it/s]\n",
      "100%|██████████| 1/1 [00:00<00:00, 78.21it/s]\n",
      "100%|██████████| 1/1 [00:00<00:00, 62.86it/s]\n",
      "100%|██████████| 1/1 [00:00<00:00, 164.83it/s]\n",
      "100%|██████████| 1/1 [00:00<00:00, 492.87it/s]\n",
      "100%|██████████| 1/1 [00:00<00:00, 269.49it/s]\n",
      "100%|██████████| 1/1 [00:00<00:00, 219.06it/s]\n",
      "100%|██████████| 1/1 [00:00<00:00, 175.59it/s]\n",
      "100%|██████████| 1/1 [00:00<00:00, 203.75it/s]\n",
      "100%|██████████| 1/1 [00:00<00:00, 50.46it/s]\n",
      "100%|██████████| 1/1 [00:00<00:00, 212.73it/s]\n",
      "100%|██████████| 1/1 [00:00<00:00, 85.48it/s]\n",
      "  0%|          | 0/1 [00:00<?, ?it/s]"
     ]
    },
    {
     "name": "stdout",
     "output_type": "stream",
     "text": [
      "Loss = 0.6182323264220194 | Training Accuracy = 0.5 | Val Loss = 0.6120760654423117 | Val Accuracy = 0.5\n",
      "Epoch 13\n",
      "Loss = 0.6120760654423117 | Training Accuracy = 0.5 | Val Loss = 0.6059354869662213 | Val Accuracy = 0.5\n",
      "Epoch 14\n",
      "Loss = 0.6059354869662213 | Training Accuracy = 0.5 | Val Loss = 0.5998101111204749 | Val Accuracy = 0.5\n",
      "Epoch 15\n",
      "Loss = 0.5998101111204749 | Training Accuracy = 0.5 | Val Loss = 0.5936963438275555 | Val Accuracy = 0.5\n",
      "Epoch 16\n",
      "Loss = 0.5936963438275555 | Training Accuracy = 0.5 | Val Loss = 0.5875924642251613 | Val Accuracy = 0.5\n",
      "Epoch 17\n",
      "Loss = 0.5875924642251613 | Training Accuracy = 0.5 | Val Loss = 0.5814954698422659 | Val Accuracy = 0.5\n",
      "Epoch 18\n",
      "Loss = 0.5814954698422659 | Training Accuracy = 0.5 | Val Loss = 0.5754026953592033 | Val Accuracy = 0.5\n",
      "Epoch 19\n"
     ]
    },
    {
     "name": "stderr",
     "output_type": "stream",
     "text": [
      "100%|██████████| 1/1 [00:00<00:00, 55.99it/s]\n",
      "100%|██████████| 1/1 [00:00<00:00, 383.88it/s]\n",
      "100%|██████████| 1/1 [00:00<00:00, 127.37it/s]\n",
      "100%|██████████| 1/1 [00:00<00:00, 379.78it/s]\n",
      "100%|██████████| 1/1 [00:00<00:00, 409.20it/s]\n",
      "100%|██████████| 1/1 [00:00<00:00, 449.84it/s]\n",
      "100%|██████████| 1/1 [00:00<00:00, 41.51it/s]\n",
      "100%|██████████| 1/1 [00:00<00:00, 88.83it/s]\n",
      "100%|██████████| 1/1 [00:00<00:00, 41.89it/s]\n",
      "  0%|          | 0/1 [00:00<?, ?it/s]"
     ]
    },
    {
     "name": "stdout",
     "output_type": "stream",
     "text": [
      "Loss = 0.5754026953592033 | Training Accuracy = 0.5 | Val Loss = 0.5693054084240822 | Val Accuracy = 0.5\n",
      "Epoch 20\n",
      "Loss = 0.5693054084240822 | Training Accuracy = 0.5 | Val Loss = 0.5628546934448934 | Val Accuracy = 0.5\n",
      "Epoch 21\n",
      "Loss = 0.5628546934448934 | Training Accuracy = 0.5 | Val Loss = 0.5566946871394505 | Val Accuracy = 0.5\n",
      "Epoch 22\n",
      "Loss = 0.5566946871394505 | Training Accuracy = 0.5 | Val Loss = 0.5505402233988979 | Val Accuracy = 0.5\n",
      "Epoch 23\n"
     ]
    },
    {
     "name": "stderr",
     "output_type": "stream",
     "text": [
      "100%|██████████| 1/1 [00:00<00:00, 185.94it/s]\n",
      "100%|██████████| 1/1 [00:00<00:00, 154.46it/s]\n",
      "100%|██████████| 1/1 [00:00<00:00, 134.41it/s]\n",
      "100%|██████████| 1/1 [00:00<00:00, 205.67it/s]\n",
      "100%|██████████| 1/1 [00:00<00:00, 249.96it/s]\n",
      "100%|██████████| 1/1 [00:00<00:00, 141.18it/s]\n",
      "100%|██████████| 1/1 [00:00<00:00, 325.39it/s]\n",
      "100%|██████████| 1/1 [00:00<00:00, 160.49it/s]\n",
      "100%|██████████| 1/1 [00:00<00:00, 211.06it/s]\n",
      "100%|██████████| 1/1 [00:00<00:00, 278.08it/s]\n",
      "100%|██████████| 1/1 [00:00<00:00, 423.92it/s]\n",
      "100%|██████████| 1/1 [00:00<00:00, 93.81it/s]\n",
      "100%|██████████| 1/1 [00:00<00:00, 88.11it/s]\n",
      "  0%|          | 0/1 [00:00<?, ?it/s]"
     ]
    },
    {
     "name": "stdout",
     "output_type": "stream",
     "text": [
      "Loss = 0.5505402233988979 | Training Accuracy = 0.5 | Val Loss = 0.5443869226660567 | Val Accuracy = 0.5\n",
      "Epoch 24\n",
      "Loss = 0.5443869226660567 | Training Accuracy = 0.5 | Val Loss = 0.5382314355645303 | Val Accuracy = 0.5\n",
      "Epoch 25\n",
      "Loss = 0.5382314355645303 | Training Accuracy = 1.0 | Val Loss = 0.5320613284105341 | Val Accuracy = 1.0\n",
      "Epoch 26\n",
      "Loss = 0.5320613284105341 | Training Accuracy = 1.0 | Val Loss = 0.5258850395853771 | Val Accuracy = 1.0\n",
      "Epoch 27\n",
      "Loss = 0.5258850395853771 | Training Accuracy = 1.0 | Val Loss = 0.519700533324249 | Val Accuracy = 1.0\n",
      "Epoch 28\n",
      "Loss = 0.519700533324249 | Training Accuracy = 1.0 | Val Loss = 0.5135071901222578 | Val Accuracy = 1.0\n",
      "Epoch 29\n",
      "Loss = 0.5135071901222578 | Training Accuracy = 1.0 | Val Loss = 0.5073077914133896 | Val Accuracy = 1.0\n",
      "Epoch 30\n"
     ]
    },
    {
     "name": "stderr",
     "output_type": "stream",
     "text": [
      "100%|██████████| 1/1 [00:00<00:00, 31.64it/s]\n",
      "100%|██████████| 1/1 [00:00<00:00, 208.20it/s]\n",
      "100%|██████████| 1/1 [00:00<00:00, 77.56it/s]\n",
      "100%|██████████| 1/1 [00:00<00:00, 237.53it/s]\n",
      "100%|██████████| 1/1 [00:00<00:00, 63.08it/s]\n",
      "100%|██████████| 1/1 [00:00<00:00, 119.55it/s]\n",
      "100%|██████████| 1/1 [00:00<00:00, 357.02it/s]\n",
      "100%|██████████| 1/1 [00:00<00:00, 67.56it/s]\n",
      "100%|██████████| 1/1 [00:00<00:00, 40.84it/s]\n",
      "100%|██████████| 1/1 [00:00<00:00, 472.07it/s]\n",
      "100%|██████████| 1/1 [00:00<00:00, 363.52it/s]\n"
     ]
    },
    {
     "name": "stdout",
     "output_type": "stream",
     "text": [
      "Loss = 0.5073077914133896 | Training Accuracy = 1.0 | Val Loss = 0.5010954315961428 | Val Accuracy = 1.0\n",
      "Epoch 31\n",
      "Loss = 0.5010954315961428 | Training Accuracy = 1.0 | Val Loss = 0.4948711916831694 | Val Accuracy = 1.0\n",
      "Epoch 32\n",
      "Loss = 0.4948711916831694 | Training Accuracy = 1.0 | Val Loss = 0.48862637995381974 | Val Accuracy = 1.0\n",
      "Epoch 33\n",
      "Loss = 0.48862637995381974 | Training Accuracy = 1.0 | Val Loss = 0.4819673782844064 | Val Accuracy = 1.0\n",
      "Epoch 34\n",
      "Loss = 0.4819673782844064 | Training Accuracy = 1.0 | Val Loss = 0.47567494337580535 | Val Accuracy = 1.0\n",
      "Epoch 35\n"
     ]
    },
    {
     "name": "stderr",
     "output_type": "stream",
     "text": [
      "100%|██████████| 1/1 [00:00<00:00, 76.20it/s]\n",
      "100%|██████████| 1/1 [00:00<00:00, 196.57it/s]\n",
      "100%|██████████| 1/1 [00:00<00:00, 413.35it/s]\n",
      "100%|██████████| 1/1 [00:00<00:00, 69.24it/s]\n",
      "100%|██████████| 1/1 [00:00<00:00, 63.73it/s]\n",
      "100%|██████████| 1/1 [00:00<00:00, 70.58it/s]\n",
      "100%|██████████| 1/1 [00:00<00:00, 38.17it/s]\n",
      "100%|██████████| 1/1 [00:00<00:00, 53.85it/s]\n",
      "  0%|          | 0/1 [00:00<?, ?it/s]"
     ]
    },
    {
     "name": "stdout",
     "output_type": "stream",
     "text": [
      "Loss = 0.47567494337580535 | Training Accuracy = 1.0 | Val Loss = 0.46936827257652575 | Val Accuracy = 1.0\n",
      "Epoch 36\n",
      "Loss = 0.46936827257652575 | Training Accuracy = 1.0 | Val Loss = 0.46306220562635597 | Val Accuracy = 1.0\n",
      "Epoch 37\n",
      "Loss = 0.46306220562635597 | Training Accuracy = 1.0 | Val Loss = 0.4567478705520712 | Val Accuracy = 1.0\n",
      "Epoch 38\n",
      "Loss = 0.4567478705520712 | Training Accuracy = 1.0 | Val Loss = 0.4504258832805706 | Val Accuracy = 1.0\n",
      "Epoch 39\n"
     ]
    },
    {
     "name": "stderr",
     "output_type": "stream",
     "text": [
      "100%|██████████| 1/1 [00:00<00:00, 58.18it/s]\n",
      "100%|██████████| 1/1 [00:00<00:00, 93.96it/s]\n",
      "100%|██████████| 1/1 [00:00<00:00, 121.50it/s]\n",
      "100%|██████████| 1/1 [00:00<00:00, 36.96it/s]\n",
      "100%|██████████| 1/1 [00:00<00:00, 65.87it/s]\n",
      "100%|██████████| 1/1 [00:00<00:00, 42.50it/s]\n",
      "100%|██████████| 1/1 [00:00<00:00, 353.12it/s]"
     ]
    },
    {
     "name": "stdout",
     "output_type": "stream",
     "text": [
      "Loss = 0.4504258832805706 | Training Accuracy = 1.0 | Val Loss = 0.4440972523718182 | Val Accuracy = 1.0\n",
      "Epoch 40\n",
      "Loss = 0.4440972523718182 | Training Accuracy = 1.0 | Val Loss = 0.43777576769743454 | Val Accuracy = 1.0\n",
      "Epoch 41\n",
      "Loss = 0.43777576769743454 | Training Accuracy = 1.0 | Val Loss = 0.43150683265989165 | Val Accuracy = 1.0\n",
      "Epoch 42\n"
     ]
    },
    {
     "name": "stderr",
     "output_type": "stream",
     "text": [
      "\n",
      "100%|██████████| 1/1 [00:00<00:00, 73.39it/s]\n",
      "100%|██████████| 1/1 [00:00<00:00, 539.39it/s]\n",
      "100%|██████████| 1/1 [00:00<00:00, 210.08it/s]\n",
      "100%|██████████| 1/1 [00:00<00:00, 323.96it/s]\n",
      "100%|██████████| 1/1 [00:00<00:00, 62.27it/s]\n",
      "100%|██████████| 1/1 [00:00<00:00, 130.04it/s]\n",
      "100%|██████████| 1/1 [00:00<00:00, 170.19it/s]\n",
      "100%|██████████| 1/1 [00:00<00:00, 93.88it/s]\n",
      "100%|██████████| 1/1 [00:00<00:00, 309.57it/s]\n",
      "100%|██████████| 1/1 [00:00<00:00, 223.02it/s]\n",
      "100%|██████████| 1/1 [00:00<00:00, 457.64it/s]\n",
      "100%|██████████| 1/1 [00:00<00:00, 460.86it/s]"
     ]
    },
    {
     "name": "stdout",
     "output_type": "stream",
     "text": [
      "Loss = 0.43150683265989165 | Training Accuracy = 1.0 | Val Loss = 0.42514181033850296 | Val Accuracy = 1.0\n",
      "Epoch 43\n",
      "Loss = 0.42514181033850296 | Training Accuracy = 1.0 | Val Loss = 0.41857450840207316 | Val Accuracy = 1.0\n",
      "Epoch 44\n",
      "Loss = 0.41857450840207316 | Training Accuracy = 1.0 | Val Loss = 0.41206912663863154 | Val Accuracy = 1.0\n",
      "Epoch 45\n",
      "Loss = 0.41206912663863154 | Training Accuracy = 1.0 | Val Loss = 0.40523381413590454 | Val Accuracy = 1.0\n",
      "Epoch 46\n",
      "Loss = 0.40523381413590454 | Training Accuracy = 1.0 | Val Loss = 0.3987187882827178 | Val Accuracy = 1.0\n",
      "Epoch 47\n",
      "Loss = 0.3987187882827178 | Training Accuracy = 1.0 | Val Loss = 0.3923202837647213 | Val Accuracy = 1.0\n",
      "Epoch 48\n"
     ]
    },
    {
     "name": "stderr",
     "output_type": "stream",
     "text": [
      "\n",
      "100%|██████████| 1/1 [00:00<00:00, 247.82it/s]\n",
      "100%|██████████| 1/1 [00:00<00:00, 209.11it/s]\n",
      "100%|██████████| 1/1 [00:00<00:00, 397.30it/s]\n",
      "100%|██████████| 1/1 [00:00<00:00, 208.15it/s]\n",
      "100%|██████████| 1/1 [00:00<00:00, 305.26it/s]\n",
      "100%|██████████| 1/1 [00:00<00:00, 206.02it/s]\n",
      "100%|██████████| 1/1 [00:00<00:00, 58.80it/s]\n",
      "100%|██████████| 1/1 [00:00<00:00, 87.10it/s]\n",
      "  0%|          | 0/1 [00:00<?, ?it/s]"
     ]
    },
    {
     "name": "stdout",
     "output_type": "stream",
     "text": [
      "Loss = 0.3923202837647213 | Training Accuracy = 1.0 | Val Loss = 0.385934042615421 | Val Accuracy = 1.0\n",
      "Epoch 49\n",
      "Loss = 0.385934042615421 | Training Accuracy = 1.0 | Val Loss = 0.37958245058663653 | Val Accuracy = 1.0\n",
      "Epoch 50\n",
      "Loss = 0.37958245058663653 | Training Accuracy = 1.0 | Val Loss = 0.3732394551942975 | Val Accuracy = 1.0\n",
      "Epoch 51\n",
      "Loss = 0.3732394551942975 | Training Accuracy = 1.0 | Val Loss = 0.3669006983233129 | Val Accuracy = 1.0\n",
      "Epoch 52\n",
      "Loss = 0.3669006983233129 | Training Accuracy = 1.0 | Val Loss = 0.36058846688226776 | Val Accuracy = 1.0\n",
      "Epoch 53\n"
     ]
    },
    {
     "name": "stderr",
     "output_type": "stream",
     "text": [
      "100%|██████████| 1/1 [00:00<00:00, 39.17it/s]\n",
      "100%|██████████| 1/1 [00:00<00:00, 44.74it/s]\n",
      "100%|██████████| 1/1 [00:00<00:00, 33.79it/s]\n",
      "100%|██████████| 1/1 [00:00<00:00, 56.67it/s]\n",
      "100%|██████████| 1/1 [00:00<00:00, 283.21it/s]\n",
      "100%|██████████| 1/1 [00:00<00:00, 555.54it/s]\n",
      "100%|██████████| 1/1 [00:00<00:00, 204.46it/s]\n",
      "100%|██████████| 1/1 [00:00<00:00, 92.38it/s]\n",
      "100%|██████████| 1/1 [00:00<00:00, 326.46it/s]\n",
      "100%|██████████| 1/1 [00:00<00:00, 153.66it/s]\n",
      "100%|██████████| 1/1 [00:00<00:00, 267.60it/s]\n",
      "100%|██████████| 1/1 [00:00<00:00, 139.16it/s]\n",
      "  0%|          | 0/1 [00:00<?, ?it/s]"
     ]
    },
    {
     "name": "stdout",
     "output_type": "stream",
     "text": [
      "Loss = 0.36058846688226776 | Training Accuracy = 1.0 | Val Loss = 0.35430335863740015 | Val Accuracy = 1.0\n",
      "Epoch 54\n",
      "Loss = 0.35430335863740015 | Training Accuracy = 1.0 | Val Loss = 0.3480479499249334 | Val Accuracy = 1.0\n",
      "Epoch 55\n",
      "Loss = 0.3480479499249334 | Training Accuracy = 1.0 | Val Loss = 0.34182534442023094 | Val Accuracy = 1.0\n",
      "Epoch 56\n",
      "Loss = 0.34182534442023094 | Training Accuracy = 1.0 | Val Loss = 0.33563969531670945 | Val Accuracy = 1.0\n",
      "Epoch 57\n",
      "Loss = 0.33563969531670945 | Training Accuracy = 1.0 | Val Loss = 0.32949495334140144 | Val Accuracy = 1.0\n",
      "Epoch 58\n",
      "Loss = 0.32949495334140144 | Training Accuracy = 1.0 | Val Loss = 0.32338924138977265 | Val Accuracy = 1.0\n",
      "Epoch 59\n"
     ]
    },
    {
     "name": "stderr",
     "output_type": "stream",
     "text": [
      "100%|██████████| 1/1 [00:00<00:00, 37.62it/s]\n",
      "100%|██████████| 1/1 [00:00<00:00, 50.52it/s]\n",
      "100%|██████████| 1/1 [00:00<00:00, 138.91it/s]\n",
      "100%|██████████| 1/1 [00:00<00:00, 129.18it/s]\n",
      "100%|██████████| 1/1 [00:00<00:00, 274.59it/s]\n",
      "100%|██████████| 1/1 [00:00<00:00, 136.15it/s]\n",
      "100%|██████████| 1/1 [00:00<00:00, 304.13it/s]\n",
      "100%|██████████| 1/1 [00:00<00:00, 186.08it/s]\n",
      "100%|██████████| 1/1 [00:00<00:00, 337.05it/s]\n",
      "100%|██████████| 1/1 [00:00<00:00, 345.07it/s]\n",
      "100%|██████████| 1/1 [00:00<00:00, 331.67it/s]\n",
      "100%|██████████| 1/1 [00:00<00:00, 419.43it/s]\n",
      "100%|██████████| 1/1 [00:00<00:00, 371.05it/s]\n",
      "100%|██████████| 1/1 [00:00<00:00, 94.33it/s]\n",
      "  0%|          | 0/1 [00:00<?, ?it/s]"
     ]
    },
    {
     "name": "stdout",
     "output_type": "stream",
     "text": [
      "Loss = 0.32338924138977265 | Training Accuracy = 1.0 | Val Loss = 0.3173442898932348 | Val Accuracy = 1.0\n",
      "Epoch 60\n",
      "Loss = 0.3173442898932348 | Training Accuracy = 1.0 | Val Loss = 0.31133916109752224 | Val Accuracy = 1.0\n",
      "Epoch 61\n",
      "Loss = 0.31133916109752224 | Training Accuracy = 1.0 | Val Loss = 0.30538331846944167 | Val Accuracy = 1.0\n",
      "Epoch 62\n",
      "Loss = 0.30538331846944167 | Training Accuracy = 1.0 | Val Loss = 0.29948510228168873 | Val Accuracy = 1.0\n",
      "Epoch 63\n",
      "Loss = 0.29948510228168873 | Training Accuracy = 1.0 | Val Loss = 0.2937523816070544 | Val Accuracy = 1.0\n",
      "Epoch 64\n",
      "Loss = 0.2937523816070544 | Training Accuracy = 1.0 | Val Loss = 0.2881755528529297 | Val Accuracy = 1.0\n",
      "Epoch 65\n",
      "Loss = 0.2881755528529297 | Training Accuracy = 1.0 | Val Loss = 0.28250081766771545 | Val Accuracy = 1.0\n",
      "Epoch 66\n"
     ]
    },
    {
     "name": "stderr",
     "output_type": "stream",
     "text": [
      "100%|██████████| 1/1 [00:00<00:00, 67.60it/s]\n",
      "100%|██████████| 1/1 [00:00<00:00, 127.41it/s]\n",
      "100%|██████████| 1/1 [00:00<00:00, 54.90it/s]\n",
      "100%|██████████| 1/1 [00:00<00:00, 33.30it/s]\n",
      "100%|██████████| 1/1 [00:00<00:00, 55.08it/s]\n",
      "100%|██████████| 1/1 [00:00<00:00, 337.38it/s]\n",
      "100%|██████████| 1/1 [00:00<00:00, 124.32it/s]\n",
      "100%|██████████| 1/1 [00:00<00:00, 302.31it/s]\n",
      "100%|██████████| 1/1 [00:00<00:00, 79.73it/s]\n",
      "100%|██████████| 1/1 [00:00<00:00, 163.64it/s]\n",
      "100%|██████████| 1/1 [00:00<00:00, 332.04it/s]\n",
      "100%|██████████| 1/1 [00:00<00:00, 118.12it/s]\n"
     ]
    },
    {
     "name": "stdout",
     "output_type": "stream",
     "text": [
      "Loss = 0.28250081766771545 | Training Accuracy = 1.0 | Val Loss = 0.276842792657927 | Val Accuracy = 1.0\n",
      "Epoch 67\n",
      "Loss = 0.276842792657927 | Training Accuracy = 1.0 | Val Loss = 0.271228489605304 | Val Accuracy = 1.0\n",
      "Epoch 68\n",
      "Loss = 0.271228489605304 | Training Accuracy = 1.0 | Val Loss = 0.26568255135769714 | Val Accuracy = 1.0\n",
      "Epoch 69\n",
      "Loss = 0.26568255135769714 | Training Accuracy = 1.0 | Val Loss = 0.2602549175329414 | Val Accuracy = 1.0\n",
      "Epoch 70\n",
      "Loss = 0.2602549175329414 | Training Accuracy = 1.0 | Val Loss = 0.2547873570291217 | Val Accuracy = 1.0\n",
      "Epoch 71\n"
     ]
    },
    {
     "name": "stderr",
     "output_type": "stream",
     "text": [
      "100%|██████████| 1/1 [00:00<00:00, 121.95it/s]\n",
      "100%|██████████| 1/1 [00:00<00:00, 102.88it/s]\n",
      "100%|██████████| 1/1 [00:00<00:00, 185.73it/s]\n",
      "100%|██████████| 1/1 [00:00<00:00, 576.70it/s]\n",
      "100%|██████████| 1/1 [00:00<00:00, 355.12it/s]\n",
      "100%|██████████| 1/1 [00:00<00:00, 64.83it/s]\n",
      "100%|██████████| 1/1 [00:00<00:00, 141.62it/s]\n",
      "100%|██████████| 1/1 [00:00<00:00, 121.07it/s]\n",
      "100%|██████████| 1/1 [00:00<00:00, 71.28it/s]\n",
      "  0%|          | 0/1 [00:00<?, ?it/s]"
     ]
    },
    {
     "name": "stdout",
     "output_type": "stream",
     "text": [
      "Loss = 0.2547873570291217 | Training Accuracy = 1.0 | Val Loss = 0.24942631985930633 | Val Accuracy = 1.0\n",
      "Epoch 72\n",
      "Loss = 0.24942631985930633 | Training Accuracy = 1.0 | Val Loss = 0.24398225837606335 | Val Accuracy = 1.0\n",
      "Epoch 73\n",
      "Loss = 0.24398225837606335 | Training Accuracy = 1.0 | Val Loss = 0.23871711443791446 | Val Accuracy = 1.0\n",
      "Epoch 74\n",
      "Loss = 0.23871711443791446 | Training Accuracy = 1.0 | Val Loss = 0.23373304780862325 | Val Accuracy = 1.0\n",
      "Epoch 75\n",
      "Loss = 0.23373304780862325 | Training Accuracy = 1.0 | Val Loss = 0.2287673553999165 | Val Accuracy = 1.0\n",
      "Epoch 76\n"
     ]
    },
    {
     "name": "stderr",
     "output_type": "stream",
     "text": [
      "100%|██████████| 1/1 [00:00<00:00, 100.89it/s]\n",
      "100%|██████████| 1/1 [00:00<00:00, 112.33it/s]\n",
      "100%|██████████| 1/1 [00:00<00:00, 66.21it/s]\n",
      "100%|██████████| 1/1 [00:00<00:00, 84.97it/s]\n",
      "100%|██████████| 1/1 [00:00<00:00, 74.13it/s]\n",
      "100%|██████████| 1/1 [00:00<00:00, 380.26it/s]\n",
      "100%|██████████| 1/1 [00:00<00:00, 404.89it/s]\n",
      "100%|██████████| 1/1 [00:00<00:00, 312.03it/s]\n",
      "100%|██████████| 1/1 [00:00<00:00, 344.02it/s]\n",
      "100%|██████████| 1/1 [00:00<00:00, 339.78it/s]\n",
      "100%|██████████| 1/1 [00:00<00:00, 129.92it/s]\n",
      "100%|██████████| 1/1 [00:00<00:00, 295.00it/s]\n",
      "100%|██████████| 1/1 [00:00<00:00, 490.16it/s]\n",
      "100%|██████████| 1/1 [00:00<00:00, 91.52it/s]\n",
      "  0%|          | 0/1 [00:00<?, ?it/s]"
     ]
    },
    {
     "name": "stdout",
     "output_type": "stream",
     "text": [
      "Loss = 0.2287673553999165 | Training Accuracy = 1.0 | Val Loss = 0.22390244965113063 | Val Accuracy = 1.0\n",
      "Epoch 77\n",
      "Loss = 0.22390244965113063 | Training Accuracy = 1.0 | Val Loss = 0.21926704678592984 | Val Accuracy = 1.0\n",
      "Epoch 78\n",
      "Loss = 0.21926704678592984 | Training Accuracy = 1.0 | Val Loss = 0.21511587552550077 | Val Accuracy = 1.0\n",
      "Epoch 79\n",
      "Loss = 0.21511587552550077 | Training Accuracy = 1.0 | Val Loss = 0.2105349581764888 | Val Accuracy = 1.0\n",
      "Epoch 80\n",
      "Loss = 0.2105349581764888 | Training Accuracy = 1.0 | Val Loss = 0.2065957636309729 | Val Accuracy = 1.0\n",
      "Epoch 81\n",
      "Loss = 0.2065957636309729 | Training Accuracy = 1.0 | Val Loss = 0.2029719612182153 | Val Accuracy = 1.0\n",
      "Epoch 82\n",
      "Loss = 0.2029719612182153 | Training Accuracy = 1.0 | Val Loss = 0.20151356022503603 | Val Accuracy = 1.0\n",
      "Epoch 83\n"
     ]
    },
    {
     "name": "stderr",
     "output_type": "stream",
     "text": [
      "100%|██████████| 1/1 [00:00<00:00, 133.15it/s]\n",
      "100%|██████████| 1/1 [00:00<00:00, 113.45it/s]\n",
      "100%|██████████| 1/1 [00:00<00:00, 79.40it/s]\n",
      "100%|██████████| 1/1 [00:00<00:00, 91.27it/s]\n",
      "100%|██████████| 1/1 [00:00<00:00, 570.42it/s]\n",
      "100%|██████████| 1/1 [00:00<00:00, 267.51it/s]\n",
      "100%|██████████| 1/1 [00:00<00:00, 266.10it/s]\n",
      "100%|██████████| 1/1 [00:00<00:00, 180.38it/s]\n",
      "100%|██████████| 1/1 [00:00<00:00, 464.49it/s]\n",
      "100%|██████████| 1/1 [00:00<00:00, 474.09it/s]\n",
      "100%|██████████| 1/1 [00:00<00:00, 84.75it/s]\n",
      "100%|██████████| 1/1 [00:00<00:00, 475.54it/s]\n",
      "100%|██████████| 1/1 [00:00<00:00, 281.06it/s]\n",
      "  0%|          | 0/1 [00:00<?, ?it/s]"
     ]
    },
    {
     "name": "stdout",
     "output_type": "stream",
     "text": [
      "Loss = 0.20151356022503603 | Training Accuracy = 1.0 | Val Loss = 0.19660355082074793 | Val Accuracy = 1.0\n",
      "Epoch 84\n",
      "Loss = 0.19660355082074793 | Training Accuracy = 1.0 | Val Loss = 0.19407507487655007 | Val Accuracy = 1.0\n",
      "Epoch 85\n",
      "Loss = 0.19407507487655007 | Training Accuracy = 1.0 | Val Loss = 0.18908777320913026 | Val Accuracy = 1.0\n",
      "Epoch 86\n",
      "Loss = 0.18908777320913026 | Training Accuracy = 1.0 | Val Loss = 0.18749802909819704 | Val Accuracy = 1.0\n",
      "Epoch 87\n",
      "Loss = 0.18749802909819704 | Training Accuracy = 1.0 | Val Loss = 0.18160554649922472 | Val Accuracy = 1.0\n",
      "Epoch 88\n",
      "Loss = 0.18160554649922472 | Training Accuracy = 1.0 | Val Loss = 0.1798099454255772 | Val Accuracy = 1.0\n",
      "Epoch 89\n",
      "Loss = 0.1798099454255772 | Training Accuracy = 1.0 | Val Loss = 0.1746269137614352 | Val Accuracy = 1.0\n",
      "Epoch 90\n"
     ]
    },
    {
     "name": "stderr",
     "output_type": "stream",
     "text": [
      "100%|██████████| 1/1 [00:00<00:00, 87.00it/s]\n",
      "100%|██████████| 1/1 [00:00<00:00, 100.34it/s]\n",
      "100%|██████████| 1/1 [00:00<00:00, 219.24it/s]\n",
      "100%|██████████| 1/1 [00:00<00:00, 189.54it/s]\n",
      "100%|██████████| 1/1 [00:00<00:00, 52.18it/s]\n",
      "100%|██████████| 1/1 [00:00<00:00, 190.01it/s]\n",
      "100%|██████████| 1/1 [00:00<00:00, 134.03it/s]\n",
      "100%|██████████| 1/1 [00:00<00:00, 494.61it/s]\n",
      "100%|██████████| 1/1 [00:00<00:00, 57.66it/s]\n",
      "100%|██████████| 1/1 [00:00<00:00, 29.25it/s]\n",
      "  0%|          | 0/1 [00:00<?, ?it/s]"
     ]
    },
    {
     "name": "stdout",
     "output_type": "stream",
     "text": [
      "Loss = 0.1746269137614352 | Training Accuracy = 1.0 | Val Loss = 0.17553792564238951 | Val Accuracy = 1.0\n",
      "Epoch 91\n",
      "Loss = 0.17553792564238951 | Training Accuracy = 1.0 | Val Loss = 0.1683409285749043 | Val Accuracy = 1.0\n",
      "Epoch 92\n",
      "Loss = 0.1683409285749043 | Training Accuracy = 1.0 | Val Loss = 0.16768341321344787 | Val Accuracy = 1.0\n",
      "Epoch 93\n",
      "Loss = 0.16768341321344787 | Training Accuracy = 1.0 | Val Loss = 0.1614586338046431 | Val Accuracy = 1.0\n",
      "Epoch 94\n",
      "Loss = 0.1614586338046431 | Training Accuracy = 1.0 | Val Loss = 0.1607152418443366 | Val Accuracy = 1.0\n",
      "Epoch 95\n"
     ]
    },
    {
     "name": "stderr",
     "output_type": "stream",
     "text": [
      "100%|██████████| 1/1 [00:00<00:00, 94.28it/s]\n",
      "100%|██████████| 1/1 [00:00<00:00, 149.74it/s]\n",
      "100%|██████████| 1/1 [00:00<00:00, 121.14it/s]\n",
      "100%|██████████| 1/1 [00:00<00:00, 49.47it/s]\n",
      "100%|██████████| 1/1 [00:00<00:00, 517.62it/s]\n",
      "100%|██████████| 1/1 [00:00<00:00, 356.90it/s]\n",
      "100%|██████████| 1/1 [00:00<00:00, 168.70it/s]\n",
      "100%|██████████| 1/1 [00:00<00:00, 501.29it/s]\n",
      "100%|██████████| 1/1 [00:00<00:00, 182.22it/s]\n",
      "100%|██████████| 1/1 [00:00<00:00, 481.00it/s]\n",
      "100%|██████████| 1/1 [00:00<00:00, 205.97it/s]\n",
      "100%|██████████| 1/1 [00:00<00:00, 582.38it/s]\n"
     ]
    },
    {
     "name": "stdout",
     "output_type": "stream",
     "text": [
      "Loss = 0.1607152418443366 | Training Accuracy = 1.0 | Val Loss = 0.15488329019333172 | Val Accuracy = 1.0\n",
      "Epoch 96\n",
      "Loss = 0.15488329019333172 | Training Accuracy = 1.0 | Val Loss = 0.15391644324669415 | Val Accuracy = 1.0\n",
      "Epoch 97\n",
      "Loss = 0.15391644324669415 | Training Accuracy = 1.0 | Val Loss = 0.14861151883751655 | Val Accuracy = 1.0\n",
      "Epoch 98\n",
      "Loss = 0.14861151883751655 | Training Accuracy = 1.0 | Val Loss = 0.14572008450185725 | Val Accuracy = 1.0\n",
      "Epoch 99\n",
      "Loss = 0.14572008450185725 | Training Accuracy = 1.0 | Val Loss = 0.14199752786961234 | Val Accuracy = 1.0\n",
      "Epoch 100\n",
      "Loss = 0.14199752786961234 | Training Accuracy = 1.0 | Val Loss = 0.13989747334802316 | Val Accuracy = 1.0\n"
     ]
    }
   ],
   "source": [
    "\n",
    "# Get preprocessed training and validation data\n",
    "\n",
    "X_train = np.array([\n",
    "    [1, 2, 1, 2],\n",
    "    [2, 4, 2, 4],\n",
    "    [2, 1, 2, 1],\n",
    "    [4, 2, 4, 2],\n",
    "])\n",
    "\n",
    "y_train = np.array([0, 1, 0, 1])\n",
    "X_val = X_train.copy()\n",
    "y_val = y_train.copy()\n",
    "\n",
    "print(X_train.shape)\n",
    "print(X_val.shape)\n",
    "\n",
    "\n",
    "# define neural net\n",
    "model = NN()\n",
    "\n",
    "# add some layers\n",
    "# YOUR CODE HERE\n",
    "\n",
    "model = train(model, X_train , y_train, minibatch_size=4, epoch=100,\n",
    "           learning_rate=0.1, X_val=X_val, y_val=y_val)\n",
    "\n",
    "\n"
   ]
  },
  {
   "cell_type": "markdown",
   "metadata": {},
   "source": [
    "## Mnist training"
   ]
  },
  {
   "cell_type": "code",
   "execution_count": 13,
   "metadata": {
    "collapsed": false
   },
   "outputs": [],
   "source": [
    "from sklearn.datasets import fetch_openml\n",
    "from sklearn.model_selection import train_test_split"
   ]
  },
  {
   "cell_type": "code",
   "execution_count": 14,
   "metadata": {
    "collapsed": false
   },
   "outputs": [],
   "source": [
    "X, y = fetch_openml('mnist_784', version=1, return_X_y=True)"
   ]
  },
  {
   "cell_type": "code",
   "execution_count": 15,
   "metadata": {
    "collapsed": true
   },
   "outputs": [],
   "source": [
    "y = y.astype(np.int32)\n",
    "X_train, X_val, y_train, y_val = train_test_split(X, y, \n",
    "                                                  test_size=0.25,\n",
    "                                                  shuffle=True,\n",
    "                                                  random_state=0)\n"
   ]
  },
  {
   "cell_type": "code",
   "execution_count": 16,
   "metadata": {
    "collapsed": true
   },
   "outputs": [],
   "source": [
    "import matplotlib.pyplot as plt\n",
    "%matplotlib notebook"
   ]
  },
  {
   "cell_type": "code",
   "execution_count": 17,
   "metadata": {
    "collapsed": false
   },
   "outputs": [
    {
     "data": {
      "image/png": "[encoded data removed]",
      "text/plain": [
       "<Figure size 432x288 with 1 Axes>"
      ]
     },
     "metadata": {
      "needs_background": "light"
     },
     "output_type": "display_data"
    }
   ],
   "source": [
    "# visualize data\n",
    "\n",
    "def vis(img, label):\n",
    "    plt.imshow(img, cmap='gray')\n",
    "    plt.title(label)\n",
    "    plt.axis('off')\n",
    "    plt.show()\n",
    "\n",
    "vis_idx = 0\n",
    "vis(X_val[vis_idx].reshape(-1, 28), y_val[vis_idx])"
   ]
  },
  {
   "cell_type": "code",
   "execution_count": 18,
   "metadata": {
    "collapsed": false
   },
   "outputs": [
    {
     "name": "stdout",
     "output_type": "stream",
     "text": [
      "(52500, 784)\n",
      "(17500, 784)\n"
     ]
    },
    {
     "name": "stderr",
     "output_type": "stream",
     "text": [
      "  0%|          | 0/411 [00:00<?, ?it/s]/Users/b.lestsov/anaconda/envs/py36/lib/python3.6/site-packages/ipykernel_launcher.py:6: RuntimeWarning: divide by zero encountered in log\n",
      "  \n",
      "  1%|          | 3/411 [00:00<00:15, 26.78it/s]"
     ]
    },
    {
     "name": "stdout",
     "output_type": "stream",
     "text": [
      "Epoch 1\n"
     ]
    },
    {
     "name": "stderr",
     "output_type": "stream",
     "text": [
      "100%|██████████| 411/411 [00:03<00:00, 122.47it/s]\n",
      "100%|██████████| 137/137 [00:00<00:00, 471.98it/s]\n",
      "  9%|▉         | 36/411 [00:00<00:02, 162.79it/s]"
     ]
    },
    {
     "name": "stdout",
     "output_type": "stream",
     "text": [
      "Loss = inf | Training Accuracy = 0.11249523809523809 | Val Loss = 21670283.138598908 | Val Accuracy = 0.11262857142857143\n",
      "Epoch 2\n"
     ]
    },
    {
     "name": "stderr",
     "output_type": "stream",
     "text": [
      "100%|██████████| 411/411 [00:02<00:00, 184.91it/s]\n",
      "100%|██████████| 137/137 [00:00<00:00, 521.44it/s]\n",
      "  3%|▎         | 14/411 [00:00<00:02, 139.39it/s]"
     ]
    },
    {
     "name": "stdout",
     "output_type": "stream",
     "text": [
      "Loss = 20841446.786487646 | Training Accuracy = 0.11249523809523809 | Val Loss = 19994716.709891647 | Val Accuracy = 0.11262857142857143\n",
      "Epoch 3\n"
     ]
    },
    {
     "name": "stderr",
     "output_type": "stream",
     "text": [
      "100%|██████████| 411/411 [00:02<00:00, 187.75it/s]\n",
      "100%|██████████| 137/137 [00:00<00:00, 391.79it/s]\n",
      "  4%|▍         | 16/411 [00:00<00:02, 155.37it/s]"
     ]
    },
    {
     "name": "stdout",
     "output_type": "stream",
     "text": [
      "Loss = 19229966.760607384 | Training Accuracy = 0.11249523809523809 | Val Loss = 18448706.647989746 | Val Accuracy = 0.11262857142857143\n",
      "Epoch 4\n"
     ]
    },
    {
     "name": "stderr",
     "output_type": "stream",
     "text": [
      "100%|██████████| 411/411 [00:02<00:00, 152.14it/s]\n",
      "100%|██████████| 137/137 [00:00<00:00, 282.87it/s]\n",
      "  4%|▎         | 15/411 [00:00<00:02, 144.55it/s]"
     ]
    },
    {
     "name": "stdout",
     "output_type": "stream",
     "text": [
      "Loss = 17743087.88104586 | Training Accuracy = 0.11249523809523809 | Val Loss = 17022235.53341483 | Val Accuracy = 0.11262857142857143\n",
      "Epoch 5\n"
     ]
    },
    {
     "name": "stderr",
     "output_type": "stream",
     "text": [
      "100%|██████████| 411/411 [00:02<00:00, 176.27it/s]\n",
      "100%|██████████| 137/137 [00:00<00:00, 514.40it/s]\n",
      "  4%|▎         | 15/411 [00:00<00:02, 143.64it/s]"
     ]
    },
    {
     "name": "stdout",
     "output_type": "stream",
     "text": [
      "Loss = 16371175.870360905 | Training Accuracy = 0.11249523809523809 | Val Loss = 15706060.502697004 | Val Accuracy = 0.11262857142857143\n",
      "Epoch 6\n"
     ]
    },
    {
     "name": "stderr",
     "output_type": "stream",
     "text": [
      "100%|██████████| 411/411 [00:02<00:00, 145.16it/s]\n",
      "100%|██████████| 137/137 [00:00<00:00, 384.46it/s]\n",
      "  3%|▎         | 12/411 [00:00<00:03, 119.65it/s]"
     ]
    },
    {
     "name": "stdout",
     "output_type": "stream",
     "text": [
      "Loss = 15105341.382472698 | Training Accuracy = 0.11249523809523809 | Val Loss = 14491653.35923308 | Val Accuracy = 0.11262857142857143\n",
      "Epoch 7\n"
     ]
    },
    {
     "name": "stderr",
     "output_type": "stream",
     "text": [
      "100%|██████████| 411/411 [00:02<00:00, 190.58it/s]\n",
      "100%|██████████| 137/137 [00:00<00:00, 509.49it/s]\n",
      "  2%|▏         | 9/411 [00:00<00:04, 84.16it/s]"
     ]
    },
    {
     "name": "stdout",
     "output_type": "stream",
     "text": [
      "Loss = 13937382.403873757 | Training Accuracy = 0.11249523809523809 | Val Loss = 13371145.314575667 | Val Accuracy = 0.11262857142857143\n",
      "Epoch 8\n"
     ]
    },
    {
     "name": "stderr",
     "output_type": "stream",
     "text": [
      "100%|██████████| 411/411 [00:02<00:00, 199.01it/s]\n",
      "100%|██████████| 137/137 [00:00<00:00, 514.72it/s]\n",
      "  8%|▊         | 34/411 [00:00<00:02, 158.74it/s]"
     ]
    },
    {
     "name": "stdout",
     "output_type": "stream",
     "text": [
      "Loss = 12859731.108430127 | Training Accuracy = 0.11249523809523809 | Val Loss = 12337276.00237727 | Val Accuracy = 0.11262857142857143\n",
      "Epoch 9\n"
     ]
    },
    {
     "name": "stderr",
     "output_type": "stream",
     "text": [
      "100%|██████████| 411/411 [00:02<00:00, 185.39it/s]\n",
      "100%|██████████| 137/137 [00:00<00:00, 507.94it/s]\n",
      "  4%|▎         | 15/411 [00:00<00:02, 146.09it/s]"
     ]
    },
    {
     "name": "stdout",
     "output_type": "stream",
     "text": [
      "Loss = 11865404.821419317 | Training Accuracy = 0.11249523809523809 | Val Loss = 11383346.434622744 | Val Accuracy = 0.11262857142857143\n",
      "Epoch 10\n"
     ]
    },
    {
     "name": "stderr",
     "output_type": "stream",
     "text": [
      "100%|██████████| 411/411 [00:02<00:00, 188.63it/s]\n",
      "100%|██████████| 137/137 [00:00<00:00, 402.62it/s]\n"
     ]
    },
    {
     "name": "stdout",
     "output_type": "stream",
     "text": [
      "Loss = 10947960.775074286 | Training Accuracy = 0.11249523809523809 | Val Loss = 10503175.595330233 | Val Accuracy = 0.11262857142857143\n"
     ]
    }
   ],
   "source": [
    "print(X_train.shape)\n",
    "print(X_val.shape)\n",
    "\n",
    "\n",
    "# define neural net\n",
    "model = NN()\n",
    "\n",
    "# add some layers\n",
    "# YOUR CODE HERE\n",
    "\n",
    "model = train(model, X_train , y_train, minibatch_size=128, epoch=10,\n",
    "           learning_rate=0.01, X_val=X_val, y_val=y_val)\n",
    "\n",
    "\n"
   ]
  },
  {
   "cell_type": "code",
   "execution_count": 19,
   "metadata": {
    "collapsed": false
   },
   "outputs": [
    {
     "data": {
      "image/png": "[encoded data removed]",
      "text/plain": [
       "<Figure size 432x288 with 1 Axes>"
      ]
     },
     "metadata": {
      "needs_background": "light"
     },
     "output_type": "display_data"
    }
   ],
   "source": [
    "# visualize prediction \n",
    "\n",
    "vis_idx = 1\n",
    "pred = model.predict(X_val[vis_idx])\n",
    "vis(X_val[vis_idx].reshape(-1, 28), pred[0])"
   ]
  },
  {
   "cell_type": "markdown",
   "metadata": {},
   "source": [
    "# TODO:\n",
    "1) Add computational graph instead of list, model saving/loading, more optimizers, shedulers loss functions, operations, gpu support, utility tools ...\n",
    "\n",
    "... Or simply use Pytorch/TF/whatever"
   ]
  },
  {
   "cell_type": "code",
   "execution_count": null,
   "metadata": {
    "collapsed": true
   },
   "outputs": [],
   "source": []
  }
 ],
 "metadata": {
  "kernelspec": {
   "display_name": "Python 3",
   "language": "python",
   "name": "python3"
  },
  "language_info": {
   "codemirror_mode": {
    "name": "ipython",
    "version": 3
   },
   "file_extension": ".py",
   "mimetype": "text/x-python",
   "name": "python",
   "nbconvert_exporter": "python",
   "pygments_lexer": "ipython3",
   "version": "3.6.9"
  }
 },
 "nbformat": 4,
 "nbformat_minor": 2
}
