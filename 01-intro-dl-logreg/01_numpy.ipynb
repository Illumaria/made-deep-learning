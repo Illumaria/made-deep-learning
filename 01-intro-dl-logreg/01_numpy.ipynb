{
  "nbformat": 4,
  "nbformat_minor": 0,
  "metadata": {
    "kernelspec": {
      "display_name": "Python 3",
      "language": "python",
      "name": "python3"
    },
    "language_info": {
      "codemirror_mode": {
        "name": "ipython",
        "version": 3
      },
      "file_extension": ".py",
      "mimetype": "text/x-python",
      "name": "python",
      "nbconvert_exporter": "python",
      "pygments_lexer": "ipython3",
      "version": "3.6.9"
    },
    "colab": {
      "name": "sem1_numpy.ipynb",
      "provenance": []
    }
  },
  "cells": [
    {
      "cell_type": "markdown",
      "metadata": {
        "id": "6SaG8hBX0Ri8"
      },
      "source": [
        "## Numpy"
      ]
    },
    {
      "cell_type": "markdown",
      "metadata": {
        "id": "hzgUR4P70RjJ"
      },
      "source": [
        "### Основной класс: np.ndarray"
      ]
    },
    {
      "cell_type": "code",
      "metadata": {
        "collapsed": true,
        "id": "yepS_rOF0RjK"
      },
      "source": [
        "import numpy as np\n",
        "import matplotlib.pyplot as plt\n",
        "from mpl_toolkits.mplot3d import Axes3D\n",
        "%matplotlib notebook"
      ],
      "execution_count": 1,
      "outputs": []
    },
    {
      "cell_type": "code",
      "metadata": {
        "id": "ejpmaSnQ0RjM",
        "colab": {
          "base_uri": "https://localhost:8080/"
        },
        "outputId": "1c474033-3194-434f-eff3-d31daec1a00b"
      },
      "source": [
        "a = np.empty([1, 2, 3])  # empty unintialized array\n",
        "print(a)\n",
        "\n",
        "a = np.array([1, 2, 3])  # array from python list/tuple structure\n",
        "print(a)"
      ],
      "execution_count": 2,
      "outputs": [
        {
          "output_type": "stream",
          "text": [
            "[[[2.84178575e-316 0.00000000e+000 0.00000000e+000]\n",
            "  [0.00000000e+000 0.00000000e+000 0.00000000e+000]]]\n",
            "[1 2 3]\n"
          ],
          "name": "stdout"
        }
      ]
    },
    {
      "cell_type": "markdown",
      "metadata": {
        "id": "0tPT89vl0RjP"
      },
      "source": [
        "#### Полезные функции для создания np.ndarray"
      ]
    },
    {
      "cell_type": "code",
      "metadata": {
        "id": "he1GKjgj0RjQ",
        "colab": {
          "base_uri": "https://localhost:8080/"
        },
        "outputId": "b9f0737d-ac41-4e3a-c8b2-b8fc321c9804"
      },
      "source": [
        "b = np.zeros_like(a)\n",
        "print(b)"
      ],
      "execution_count": 3,
      "outputs": [
        {
          "output_type": "stream",
          "text": [
            "[0 0 0]\n"
          ],
          "name": "stdout"
        }
      ]
    },
    {
      "cell_type": "code",
      "metadata": {
        "id": "GX_NE9Mv0RjS",
        "colab": {
          "base_uri": "https://localhost:8080/"
        },
        "outputId": "bbfa01a2-7245-4622-87d4-a6b9135726c5"
      },
      "source": [
        "b = np.ones_like(a)\n",
        "print(b)"
      ],
      "execution_count": 4,
      "outputs": [
        {
          "output_type": "stream",
          "text": [
            "[1 1 1]\n"
          ],
          "name": "stdout"
        }
      ]
    },
    {
      "cell_type": "code",
      "metadata": {
        "id": "LTy8BVmI0RjT",
        "colab": {
          "base_uri": "https://localhost:8080/"
        },
        "outputId": "625fa76b-a16e-4d1e-dfa3-19a880a2813d"
      },
      "source": [
        "b = np.full(shape=(1, 2), fill_value=3)\n",
        "print(b)"
      ],
      "execution_count": 5,
      "outputs": [
        {
          "output_type": "stream",
          "text": [
            "[[3 3]]\n"
          ],
          "name": "stdout"
        }
      ]
    },
    {
      "cell_type": "code",
      "metadata": {
        "id": "EEKbrKqX0RjU",
        "colab": {
          "base_uri": "https://localhost:8080/"
        },
        "outputId": "4691f390-f919-432d-d89a-1fc23e2e2500"
      },
      "source": [
        "b = np.diag([3, 4, 5])\n",
        "print(b)"
      ],
      "execution_count": 6,
      "outputs": [
        {
          "output_type": "stream",
          "text": [
            "[[3 0 0]\n",
            " [0 4 0]\n",
            " [0 0 5]]\n"
          ],
          "name": "stdout"
        }
      ]
    },
    {
      "cell_type": "code",
      "metadata": {
        "id": "RvXxSkCl0RjV",
        "colab": {
          "base_uri": "https://localhost:8080/"
        },
        "outputId": "d995115e-4cec-4f75-a209-16301dc0c18a"
      },
      "source": [
        "b = np.linspace(0, 1, 9)\n",
        "print(b)"
      ],
      "execution_count": 7,
      "outputs": [
        {
          "output_type": "stream",
          "text": [
            "[0.    0.125 0.25  0.375 0.5   0.625 0.75  0.875 1.   ]\n"
          ],
          "name": "stdout"
        }
      ]
    },
    {
      "cell_type": "markdown",
      "metadata": {
        "id": "0Fg5fCQQ0RjW"
      },
      "source": [
        "#### Получение информации о массивах"
      ]
    },
    {
      "cell_type": "code",
      "metadata": {
        "id": "IsG88Lx90RjY",
        "colab": {
          "base_uri": "https://localhost:8080/"
        },
        "outputId": "11fb1ba6-dc61-40a3-d01c-4d45c5e22027"
      },
      "source": [
        "print(type(a), a.size)"
      ],
      "execution_count": 8,
      "outputs": [
        {
          "output_type": "stream",
          "text": [
            "<class 'numpy.ndarray'> 3\n"
          ],
          "name": "stdout"
        }
      ]
    },
    {
      "cell_type": "code",
      "metadata": {
        "id": "zzKuRBB20RjZ",
        "colab": {
          "base_uri": "https://localhost:8080/"
        },
        "outputId": "9c8a889b-d8ea-4f85-ae85-b4a999137473"
      },
      "source": [
        "print(a.dtype, a.itemsize)"
      ],
      "execution_count": 9,
      "outputs": [
        {
          "output_type": "stream",
          "text": [
            "int64 8\n"
          ],
          "name": "stdout"
        }
      ]
    },
    {
      "cell_type": "code",
      "metadata": {
        "id": "ug6DggpV0Rja",
        "colab": {
          "base_uri": "https://localhost:8080/"
        },
        "outputId": "9c76e8e6-2994-46e4-c3a1-1f4deca93872"
      },
      "source": [
        "a = a.astype(np.float64)\n",
        "print(a)\n",
        "print(a.dtype, a.itemsize)"
      ],
      "execution_count": 10,
      "outputs": [
        {
          "output_type": "stream",
          "text": [
            "[1. 2. 3.]\n",
            "float64 8\n"
          ],
          "name": "stdout"
        }
      ]
    },
    {
      "cell_type": "markdown",
      "metadata": {
        "id": "qPy9ON_q0Rjb"
      },
      "source": [
        "#### Преобразование массивов"
      ]
    },
    {
      "cell_type": "code",
      "metadata": {
        "id": "ctjlwFyV0Rjb",
        "colab": {
          "base_uri": "https://localhost:8080/"
        },
        "outputId": "9ed85946-65ba-43f1-ac65-a62c6fb8fdea"
      },
      "source": [
        "# reshape to specific shape\n",
        "a = np.arange(27).reshape(3,3,3)\n",
        "print(a)"
      ],
      "execution_count": 11,
      "outputs": [
        {
          "output_type": "stream",
          "text": [
            "[[[ 0  1  2]\n",
            "  [ 3  4  5]\n",
            "  [ 6  7  8]]\n",
            "\n",
            " [[ 9 10 11]\n",
            "  [12 13 14]\n",
            "  [15 16 17]]\n",
            "\n",
            " [[18 19 20]\n",
            "  [21 22 23]\n",
            "  [24 25 26]]]\n"
          ],
          "name": "stdout"
        }
      ]
    },
    {
      "cell_type": "code",
      "metadata": {
        "id": "HB22Uo_p0Rjc",
        "colab": {
          "base_uri": "https://localhost:8080/"
        },
        "outputId": "08efbf21-8815-4b37-f586-81858b6c7f98"
      },
      "source": [
        "# reshape to (a.size, )\n",
        "print(a.flatten())"
      ],
      "execution_count": 12,
      "outputs": [
        {
          "output_type": "stream",
          "text": [
            "[ 0  1  2  3  4  5  6  7  8  9 10 11 12 13 14 15 16 17 18 19 20 21 22 23\n",
            " 24 25 26]\n"
          ],
          "name": "stdout"
        }
      ]
    },
    {
      "cell_type": "code",
      "metadata": {
        "id": "Iowu5pdE0Rjd",
        "colab": {
          "base_uri": "https://localhost:8080/"
        },
        "outputId": "fda10e7a-3a5f-4621-c9c5-5f781eb52127"
      },
      "source": [
        "# to python list\n",
        "print(a.tolist())"
      ],
      "execution_count": 13,
      "outputs": [
        {
          "output_type": "stream",
          "text": [
            "[[[0, 1, 2], [3, 4, 5], [6, 7, 8]], [[9, 10, 11], [12, 13, 14], [15, 16, 17]], [[18, 19, 20], [21, 22, 23], [24, 25, 26]]]\n"
          ],
          "name": "stdout"
        }
      ]
    },
    {
      "cell_type": "markdown",
      "metadata": {
        "id": "A0GRjGCX0Rje"
      },
      "source": [
        "### Операции с массивами"
      ]
    },
    {
      "cell_type": "markdown",
      "metadata": {
        "id": "fP4Pf7EX0Rjf"
      },
      "source": [
        "#### Slicing - получение \"среза\" массива. "
      ]
    },
    {
      "cell_type": "code",
      "metadata": {
        "id": "W2Fh1hQd0Rjf",
        "colab": {
          "base_uri": "https://localhost:8080/"
        },
        "outputId": "efdeed56-3407-492f-993a-a16947b6424e"
      },
      "source": [
        "a = np.arange(9).reshape(3, 3)\n",
        "print(a)"
      ],
      "execution_count": 14,
      "outputs": [
        {
          "output_type": "stream",
          "text": [
            "[[0 1 2]\n",
            " [3 4 5]\n",
            " [6 7 8]]\n"
          ],
          "name": "stdout"
        }
      ]
    },
    {
      "cell_type": "code",
      "metadata": {
        "id": "QJZDBjbJ0Rjg",
        "colab": {
          "base_uri": "https://localhost:8080/"
        },
        "outputId": "e9e4a9a1-7c2d-407a-9bce-18f9b0389589"
      },
      "source": [
        "# first row\n",
        "print(a[0, :])"
      ],
      "execution_count": 15,
      "outputs": [
        {
          "output_type": "stream",
          "text": [
            "[0 1 2]\n"
          ],
          "name": "stdout"
        }
      ]
    },
    {
      "cell_type": "code",
      "metadata": {
        "id": "Qoqi0-uT0Rjh",
        "colab": {
          "base_uri": "https://localhost:8080/"
        },
        "outputId": "0b315a6b-3562-43e3-9ac9-3b8f802c0569"
      },
      "source": [
        "# last column\n",
        "print(a[:, -1])"
      ],
      "execution_count": 16,
      "outputs": [
        {
          "output_type": "stream",
          "text": [
            "[2 5 8]\n"
          ],
          "name": "stdout"
        }
      ]
    },
    {
      "cell_type": "code",
      "metadata": {
        "id": "gUzchKqt0Rjh",
        "colab": {
          "base_uri": "https://localhost:8080/"
        },
        "outputId": "4b4a9136-10bc-4d2a-be25-cbe29532ee6e"
      },
      "source": [
        "# 'ellipsis' slicing\n",
        "a = np.arange(27).reshape(3, 3, 3)\n",
        "print(a)\n",
        "print(a[0, ...])  # equivalent to a[0, :, :]"
      ],
      "execution_count": 17,
      "outputs": [
        {
          "output_type": "stream",
          "text": [
            "[[[ 0  1  2]\n",
            "  [ 3  4  5]\n",
            "  [ 6  7  8]]\n",
            "\n",
            " [[ 9 10 11]\n",
            "  [12 13 14]\n",
            "  [15 16 17]]\n",
            "\n",
            " [[18 19 20]\n",
            "  [21 22 23]\n",
            "  [24 25 26]]]\n",
            "[[0 1 2]\n",
            " [3 4 5]\n",
            " [6 7 8]]\n"
          ],
          "name": "stdout"
        }
      ]
    },
    {
      "cell_type": "markdown",
      "metadata": {
        "id": "KXVwRZ3Q0Rji"
      },
      "source": [
        "#### Поэлементные операции"
      ]
    },
    {
      "cell_type": "code",
      "metadata": {
        "id": "gKLBgTob0Rjj",
        "colab": {
          "base_uri": "https://localhost:8080/"
        },
        "outputId": "ca62b84b-daa4-46cc-c85b-cba5db6d8582"
      },
      "source": [
        "# elementwise sin\n",
        "a = np.arange(9).reshape(3, 3)\n",
        "print(np.sin(a))"
      ],
      "execution_count": 18,
      "outputs": [
        {
          "output_type": "stream",
          "text": [
            "[[ 0.          0.84147098  0.90929743]\n",
            " [ 0.14112001 -0.7568025  -0.95892427]\n",
            " [-0.2794155   0.6569866   0.98935825]]\n"
          ],
          "name": "stdout"
        }
      ]
    },
    {
      "cell_type": "code",
      "metadata": {
        "id": "-LeiHRb00Rjk",
        "colab": {
          "base_uri": "https://localhost:8080/"
        },
        "outputId": "2f2f1920-0dec-406a-e436-c34384a68171"
      },
      "source": [
        "# python-compatible maths\n",
        "a = np.arange(9).reshape(3, 3)\n",
        "print(a**2)"
      ],
      "execution_count": 19,
      "outputs": [
        {
          "output_type": "stream",
          "text": [
            "[[ 0  1  4]\n",
            " [ 9 16 25]\n",
            " [36 49 64]]\n"
          ],
          "name": "stdout"
        }
      ]
    },
    {
      "cell_type": "markdown",
      "metadata": {
        "id": "Q4PmLDYp0Rjk"
      },
      "source": [
        "#### Операции редукции"
      ]
    },
    {
      "cell_type": "code",
      "metadata": {
        "id": "OO_qPB2D0Rjk",
        "colab": {
          "base_uri": "https://localhost:8080/"
        },
        "outputId": "7104a038-7243-41f1-bdc7-2cd2dfed66e3"
      },
      "source": [
        "a = np.arange(9).reshape(3, 3)\n",
        "print(a)"
      ],
      "execution_count": 20,
      "outputs": [
        {
          "output_type": "stream",
          "text": [
            "[[0 1 2]\n",
            " [3 4 5]\n",
            " [6 7 8]]\n"
          ],
          "name": "stdout"
        }
      ]
    },
    {
      "cell_type": "code",
      "metadata": {
        "id": "cG7uY8fC0Rjl",
        "colab": {
          "base_uri": "https://localhost:8080/"
        },
        "outputId": "2c7a9f8e-10dd-4bd9-e2bf-457159e17c56"
      },
      "source": [
        "# sum of all elements\n",
        "print(a.sum())"
      ],
      "execution_count": 21,
      "outputs": [
        {
          "output_type": "stream",
          "text": [
            "36\n"
          ],
          "name": "stdout"
        }
      ]
    },
    {
      "cell_type": "code",
      "metadata": {
        "id": "oiFVm2PX0Rjm",
        "colab": {
          "base_uri": "https://localhost:8080/"
        },
        "outputId": "63eab65f-9a06-4bb8-cb5e-e6ef19b17874"
      },
      "source": [
        "# sum of each row\n",
        "print(a.sum(axis=1))"
      ],
      "execution_count": 22,
      "outputs": [
        {
          "output_type": "stream",
          "text": [
            "[ 3 12 21]\n"
          ],
          "name": "stdout"
        }
      ]
    },
    {
      "cell_type": "code",
      "metadata": {
        "id": "hh_AyNck0Rjm",
        "colab": {
          "base_uri": "https://localhost:8080/"
        },
        "outputId": "651f9be8-74d4-4ffe-a3a1-72f3e2c87fc0"
      },
      "source": [
        "# min over colimns\n",
        "print(a.min(axis=0))"
      ],
      "execution_count": 23,
      "outputs": [
        {
          "output_type": "stream",
          "text": [
            "[0 1 2]\n"
          ],
          "name": "stdout"
        }
      ]
    },
    {
      "cell_type": "markdown",
      "metadata": {
        "id": "HTL86LB30Rjm"
      },
      "source": [
        "#### Операции, измененяющие размерности массива"
      ]
    },
    {
      "cell_type": "code",
      "metadata": {
        "id": "PHB5_PAL0Rjo",
        "colab": {
          "base_uri": "https://localhost:8080/"
        },
        "outputId": "a4e084d8-3c44-451f-c4a6-540764844bcf"
      },
      "source": [
        "a = np.arange(12)\n",
        "print(a)\n",
        "a = a.reshape(2, 6)\n",
        "print(a)"
      ],
      "execution_count": 24,
      "outputs": [
        {
          "output_type": "stream",
          "text": [
            "[ 0  1  2  3  4  5  6  7  8  9 10 11]\n",
            "[[ 0  1  2  3  4  5]\n",
            " [ 6  7  8  9 10 11]]\n"
          ],
          "name": "stdout"
        }
      ]
    },
    {
      "cell_type": "code",
      "metadata": {
        "id": "6kHPta940Rjp",
        "colab": {
          "base_uri": "https://localhost:8080/"
        },
        "outputId": "0101bd5e-7479-4b19-e3d9-e4afd2372db3"
      },
      "source": [
        "print(a.reshape(3, 2, 2))"
      ],
      "execution_count": 25,
      "outputs": [
        {
          "output_type": "stream",
          "text": [
            "[[[ 0  1]\n",
            "  [ 2  3]]\n",
            "\n",
            " [[ 4  5]\n",
            "  [ 6  7]]\n",
            "\n",
            " [[ 8  9]\n",
            "  [10 11]]]\n"
          ],
          "name": "stdout"
        }
      ]
    },
    {
      "cell_type": "code",
      "metadata": {
        "id": "M5g2f1EY0Rjq",
        "colab": {
          "base_uri": "https://localhost:8080/"
        },
        "outputId": "c0e08c4f-41e8-48c0-da6a-a9ac9a4aba95"
      },
      "source": [
        "print(a.swapaxes(0, 1))"
      ],
      "execution_count": 26,
      "outputs": [
        {
          "output_type": "stream",
          "text": [
            "[[ 0  6]\n",
            " [ 1  7]\n",
            " [ 2  8]\n",
            " [ 3  9]\n",
            " [ 4 10]\n",
            " [ 5 11]]\n"
          ],
          "name": "stdout"
        }
      ]
    },
    {
      "cell_type": "code",
      "metadata": {
        "id": "n1t_IdZY0Rjr",
        "colab": {
          "base_uri": "https://localhost:8080/"
        },
        "outputId": "0ef8f693-0762-4eb4-9d00-bd78d8726e19"
      },
      "source": [
        "a = np.arange(24).reshape(1, 2, 3, 4)\n",
        "print(a)"
      ],
      "execution_count": 27,
      "outputs": [
        {
          "output_type": "stream",
          "text": [
            "[[[[ 0  1  2  3]\n",
            "   [ 4  5  6  7]\n",
            "   [ 8  9 10 11]]\n",
            "\n",
            "  [[12 13 14 15]\n",
            "   [16 17 18 19]\n",
            "   [20 21 22 23]]]]\n"
          ],
          "name": "stdout"
        }
      ]
    },
    {
      "cell_type": "code",
      "metadata": {
        "id": "khpKzQ_90Rjs",
        "colab": {
          "base_uri": "https://localhost:8080/"
        },
        "outputId": "90f12cd7-8acb-4123-ce9a-c1c1588b1d42"
      },
      "source": [
        "a = np.arange(24).reshape(1, 2, -1, 4)\n",
        "print(a)"
      ],
      "execution_count": 28,
      "outputs": [
        {
          "output_type": "stream",
          "text": [
            "[[[[ 0  1  2  3]\n",
            "   [ 4  5  6  7]\n",
            "   [ 8  9 10 11]]\n",
            "\n",
            "  [[12 13 14 15]\n",
            "   [16 17 18 19]\n",
            "   [20 21 22 23]]]]\n"
          ],
          "name": "stdout"
        }
      ]
    },
    {
      "cell_type": "code",
      "metadata": {
        "id": "elA-SNds0Rjs",
        "colab": {
          "base_uri": "https://localhost:8080/"
        },
        "outputId": "1c764b87-13e8-4ab8-ab6d-ca4cad415fbe"
      },
      "source": [
        "print(a.transpose(0, 1, 3, 2))"
      ],
      "execution_count": 29,
      "outputs": [
        {
          "output_type": "stream",
          "text": [
            "[[[[ 0  4  8]\n",
            "   [ 1  5  9]\n",
            "   [ 2  6 10]\n",
            "   [ 3  7 11]]\n",
            "\n",
            "  [[12 16 20]\n",
            "   [13 17 21]\n",
            "   [14 18 22]\n",
            "   [15 19 23]]]]\n"
          ],
          "name": "stdout"
        }
      ]
    },
    {
      "cell_type": "code",
      "metadata": {
        "id": "oqvnUnxl0Rjs",
        "colab": {
          "base_uri": "https://localhost:8080/"
        },
        "outputId": "d1d278a8-7090-48f6-86d6-e0ba1dbc063f"
      },
      "source": [
        "print(a.T.shape)  # reverse axis order"
      ],
      "execution_count": 30,
      "outputs": [
        {
          "output_type": "stream",
          "text": [
            "(4, 3, 2, 1)\n"
          ],
          "name": "stdout"
        }
      ]
    },
    {
      "cell_type": "code",
      "metadata": {
        "id": "mi_1qqGN0Rjt",
        "colab": {
          "base_uri": "https://localhost:8080/"
        },
        "outputId": "bbffa3ec-7bfa-4f0c-9309-d04f581d31a0"
      },
      "source": [
        "a = np.arange(12).reshape(2, 6)\n",
        "print(a)"
      ],
      "execution_count": 31,
      "outputs": [
        {
          "output_type": "stream",
          "text": [
            "[[ 0  1  2  3  4  5]\n",
            " [ 6  7  8  9 10 11]]\n"
          ],
          "name": "stdout"
        }
      ]
    },
    {
      "cell_type": "code",
      "metadata": {
        "id": "LABxmpqr0Rju",
        "colab": {
          "base_uri": "https://localhost:8080/"
        },
        "outputId": "56421555-6954-4308-b428-112f1e85c55f"
      },
      "source": [
        "print(a[np.newaxis, :, :])"
      ],
      "execution_count": 32,
      "outputs": [
        {
          "output_type": "stream",
          "text": [
            "[[[ 0  1  2  3  4  5]\n",
            "  [ 6  7  8  9 10 11]]]\n"
          ],
          "name": "stdout"
        }
      ]
    },
    {
      "cell_type": "code",
      "metadata": {
        "id": "b6pw2J0z0Rju",
        "colab": {
          "base_uri": "https://localhost:8080/"
        },
        "outputId": "d89f374a-faf1-46d4-8385-477098663fd0"
      },
      "source": [
        "print(a[:, :, np.newaxis])  # add new dimension to the end"
      ],
      "execution_count": 33,
      "outputs": [
        {
          "output_type": "stream",
          "text": [
            "[[[ 0]\n",
            "  [ 1]\n",
            "  [ 2]\n",
            "  [ 3]\n",
            "  [ 4]\n",
            "  [ 5]]\n",
            "\n",
            " [[ 6]\n",
            "  [ 7]\n",
            "  [ 8]\n",
            "  [ 9]\n",
            "  [10]\n",
            "  [11]]]\n"
          ],
          "name": "stdout"
        }
      ]
    },
    {
      "cell_type": "code",
      "metadata": {
        "id": "bVh_-tt-0Rju",
        "colab": {
          "base_uri": "https://localhost:8080/"
        },
        "outputId": "6fa8ed0e-4d69-4075-c22e-f2ff19f324f4"
      },
      "source": [
        "# shorter\n",
        "print(a[..., None])  # add new dimension to the end"
      ],
      "execution_count": 34,
      "outputs": [
        {
          "output_type": "stream",
          "text": [
            "[[[ 0]\n",
            "  [ 1]\n",
            "  [ 2]\n",
            "  [ 3]\n",
            "  [ 4]\n",
            "  [ 5]]\n",
            "\n",
            " [[ 6]\n",
            "  [ 7]\n",
            "  [ 8]\n",
            "  [ 9]\n",
            "  [10]\n",
            "  [11]]]\n"
          ],
          "name": "stdout"
        }
      ]
    },
    {
      "cell_type": "code",
      "metadata": {
        "id": "-kQnkwDh0Rjv",
        "colab": {
          "base_uri": "https://localhost:8080/"
        },
        "outputId": "a85e6162-f306-4800-9c71-bba191e78df3"
      },
      "source": [
        "a = np.arange(12).reshape(2, 6)\n",
        "print(a)"
      ],
      "execution_count": 35,
      "outputs": [
        {
          "output_type": "stream",
          "text": [
            "[[ 0  1  2  3  4  5]\n",
            " [ 6  7  8  9 10 11]]\n"
          ],
          "name": "stdout"
        }
      ]
    },
    {
      "cell_type": "markdown",
      "metadata": {
        "id": "Sv9n_WCY0Rjw"
      },
      "source": [
        "__Вопрос:__ Чем отличаются следущие операции? Размерности ведь совпадают..."
      ]
    },
    {
      "cell_type": "code",
      "metadata": {
        "id": "_qm3FN4h0Rjw",
        "colab": {
          "base_uri": "https://localhost:8080/"
        },
        "outputId": "3f084ac8-8e02-4e8d-c53a-4bb048be625e"
      },
      "source": [
        "print(a.reshape(6, 2).shape)\n",
        "print(a.swapaxes(0, 1).shape)"
      ],
      "execution_count": 36,
      "outputs": [
        {
          "output_type": "stream",
          "text": [
            "(6, 2)\n",
            "(6, 2)\n"
          ],
          "name": "stdout"
        }
      ]
    },
    {
      "cell_type": "markdown",
      "metadata": {
        "id": "NRSx5UDuEzei"
      },
      "source": [
        "__Ответ:__ операции приводят к разному порядку элементов в массивах."
      ]
    },
    {
      "cell_type": "code",
      "metadata": {
        "colab": {
          "base_uri": "https://localhost:8080/"
        },
        "id": "cGxhQNf7Ep0a",
        "outputId": "1d2f9e78-f118-4f66-f53e-f13ee7ba12db"
      },
      "source": [
        "print(a.reshape(6, 2))\n",
        "print(a.swapaxes(0, 1))"
      ],
      "execution_count": 37,
      "outputs": [
        {
          "output_type": "stream",
          "text": [
            "[[ 0  1]\n",
            " [ 2  3]\n",
            " [ 4  5]\n",
            " [ 6  7]\n",
            " [ 8  9]\n",
            " [10 11]]\n",
            "[[ 0  6]\n",
            " [ 1  7]\n",
            " [ 2  8]\n",
            " [ 3  9]\n",
            " [ 4 10]\n",
            " [ 5 11]]\n"
          ],
          "name": "stdout"
        }
      ]
    },
    {
      "cell_type": "markdown",
      "metadata": {
        "id": "bkP94gzB0Rjw"
      },
      "source": [
        "#### Fancy Indexing"
      ]
    },
    {
      "cell_type": "code",
      "metadata": {
        "id": "2DSIyaKJ0Rjw",
        "colab": {
          "base_uri": "https://localhost:8080/"
        },
        "outputId": "633bf41d-7d76-4f2f-9736-cda502019f05"
      },
      "source": [
        "a = np.arange(12).reshape(2, 6)\n",
        "print(a)"
      ],
      "execution_count": 38,
      "outputs": [
        {
          "output_type": "stream",
          "text": [
            "[[ 0  1  2  3  4  5]\n",
            " [ 6  7  8  9 10 11]]\n"
          ],
          "name": "stdout"
        }
      ]
    },
    {
      "cell_type": "code",
      "metadata": {
        "id": "EkHbiQ4l0Rjx",
        "colab": {
          "base_uri": "https://localhost:8080/"
        },
        "outputId": "99572435-8120-4e5c-d0ec-3b79fb55a80e"
      },
      "source": [
        "# second and third columns\n",
        "a[:, [1, 2]]"
      ],
      "execution_count": 39,
      "outputs": [
        {
          "output_type": "execute_result",
          "data": {
            "text/plain": [
              "array([[1, 2],\n",
              "       [7, 8]])"
            ]
          },
          "metadata": {
            "tags": []
          },
          "execution_count": 39
        }
      ]
    },
    {
      "cell_type": "code",
      "metadata": {
        "id": "5_o4rGcl0Rj0",
        "colab": {
          "base_uri": "https://localhost:8080/"
        },
        "outputId": "78ce4822-6c19-42fc-a894-056671d69e7f"
      },
      "source": [
        "ix = a > 7\n",
        "print(ix, ix.dtype)"
      ],
      "execution_count": 40,
      "outputs": [
        {
          "output_type": "stream",
          "text": [
            "[[False False False False False False]\n",
            " [False False  True  True  True  True]] bool\n"
          ],
          "name": "stdout"
        }
      ]
    },
    {
      "cell_type": "code",
      "metadata": {
        "id": "voBON7Yx0Rj0",
        "colab": {
          "base_uri": "https://localhost:8080/"
        },
        "outputId": "2dcfa42e-6a62-4073-e677-1a8a34c8ce05"
      },
      "source": [
        "# boolean indexing\n",
        "print(a[(a > 7) | (a < 2)])"
      ],
      "execution_count": 41,
      "outputs": [
        {
          "output_type": "stream",
          "text": [
            "[ 0  1  8  9 10 11]\n"
          ],
          "name": "stdout"
        }
      ]
    },
    {
      "cell_type": "markdown",
      "metadata": {
        "id": "nxmf7B5o0Rj0"
      },
      "source": [
        "#### Broadcasting - если у массива есть размерность с длиной 1, то numpy может автоматически \"размножить\" данные в ней, сделав длину произвольной. Если даже такой размерности нет, numpy попробует приписать ее в начало."
      ]
    },
    {
      "cell_type": "code",
      "metadata": {
        "id": "snTWp0At0Rj2",
        "colab": {
          "base_uri": "https://localhost:8080/"
        },
        "outputId": "d6ee4071-b823-4d26-eefc-b9f02a9bba30"
      },
      "source": [
        "a = np.arange(6).reshape(2, 3)\n",
        "b = np.arange(3).reshape(3) + 1\n",
        "print(\"A:\")\n",
        "print(a, a.shape)\n",
        "print(\"B:\")\n",
        "print(b, b.shape)\n",
        "print(\"np.broadcast_to(b, a.shape)\")\n",
        "print(np.broadcast_to(b, a.shape))"
      ],
      "execution_count": 42,
      "outputs": [
        {
          "output_type": "stream",
          "text": [
            "A:\n",
            "[[0 1 2]\n",
            " [3 4 5]] (2, 3)\n",
            "B:\n",
            "[1 2 3] (3,)\n",
            "np.broadcast_to(b, a.shape)\n",
            "[[1 2 3]\n",
            " [1 2 3]]\n"
          ],
          "name": "stdout"
        }
      ]
    },
    {
      "cell_type": "code",
      "metadata": {
        "id": "pbvaJA_y0Rj2",
        "colab": {
          "base_uri": "https://localhost:8080/"
        },
        "outputId": "a91385c6-41bb-4914-8aaf-1d942f372efc"
      },
      "source": [
        "# failed broadcast\n",
        "a = np.arange(6).reshape(2, 3)\n",
        "b = np.ones(shape=(2,), dtype=a.dtype)\n",
        "print(\"A:\")\n",
        "print(a, a.shape)\n",
        "print(\"B:\")\n",
        "print(b, b.shape)\n",
        "try:\n",
        "    print(\"A + B:\")\n",
        "    print(a + b)\n",
        "except Exception as e:\n",
        "    print(type(e), e)"
      ],
      "execution_count": 43,
      "outputs": [
        {
          "output_type": "stream",
          "text": [
            "A:\n",
            "[[0 1 2]\n",
            " [3 4 5]] (2, 3)\n",
            "B:\n",
            "[1 1] (2,)\n",
            "A + B:\n",
            "<class 'ValueError'> operands could not be broadcast together with shapes (2,3) (2,) \n"
          ],
          "name": "stdout"
        }
      ]
    },
    {
      "cell_type": "code",
      "metadata": {
        "id": "JNuO0Dwl0Rj3",
        "colab": {
          "base_uri": "https://localhost:8080/"
        },
        "outputId": "395493f3-d148-469f-8798-5f490beb7f1c"
      },
      "source": [
        "# successfull broadcast along last dim\n",
        "a = np.arange(6).reshape(2, 3)\n",
        "b = np.ones(shape=(2,), dtype=a.dtype)[:, None]\n",
        "print(\"A:\")\n",
        "print(a, a.shape)\n",
        "print(\"B:\")\n",
        "print(b, b.shape)\n",
        "print(\"A + B:\")\n",
        "print(a + b)"
      ],
      "execution_count": 44,
      "outputs": [
        {
          "output_type": "stream",
          "text": [
            "A:\n",
            "[[0 1 2]\n",
            " [3 4 5]] (2, 3)\n",
            "B:\n",
            "[[1]\n",
            " [1]] (2, 1)\n",
            "A + B:\n",
            "[[1 2 3]\n",
            " [4 5 6]]\n"
          ],
          "name": "stdout"
        }
      ]
    },
    {
      "cell_type": "code",
      "metadata": {
        "id": "RxbQLxpU0Rj3",
        "colab": {
          "base_uri": "https://localhost:8080/"
        },
        "outputId": "2a46f486-b857-44f7-957b-ef685ea9e6b9"
      },
      "source": [
        "# automatic broadcasting with automatically added first dimention\n",
        "a = np.arange(6).reshape(2, 3)\n",
        "b = np.ones(shape=(3,), dtype=a.dtype)\n",
        "print(\"A:\")\n",
        "print(a, a.shape)\n",
        "print(\"B:\")\n",
        "print(b, b.shape)\n",
        "print(\"A + B:\")\n",
        "print(a + b)"
      ],
      "execution_count": 45,
      "outputs": [
        {
          "output_type": "stream",
          "text": [
            "A:\n",
            "[[0 1 2]\n",
            " [3 4 5]] (2, 3)\n",
            "B:\n",
            "[1 1 1] (3,)\n",
            "A + B:\n",
            "[[1 2 3]\n",
            " [4 5 6]]\n"
          ],
          "name": "stdout"
        }
      ]
    },
    {
      "cell_type": "code",
      "metadata": {
        "id": "s1pMau3S0Rj3",
        "colab": {
          "base_uri": "https://localhost:8080/"
        },
        "outputId": "2ef96939-56d8-4a49-9059-394f8f8f2bb2"
      },
      "source": [
        "# bcast over two or more axes:\n",
        "a = np.arange(6).reshape(2, 3)\n",
        "b = np.ones(shape=(6,), dtype=a.dtype).reshape(2, 3)\n",
        "print(\"A:\")\n",
        "print(a)\n",
        "print(\"B:\")\n",
        "print(b)\n",
        "print(\"A + B:\")\n",
        "print(a[None, :, :] + b[:, None, :])"
      ],
      "execution_count": 46,
      "outputs": [
        {
          "output_type": "stream",
          "text": [
            "A:\n",
            "[[0 1 2]\n",
            " [3 4 5]]\n",
            "B:\n",
            "[[1 1 1]\n",
            " [1 1 1]]\n",
            "A + B:\n",
            "[[[1 2 3]\n",
            "  [4 5 6]]\n",
            "\n",
            " [[1 2 3]\n",
            "  [4 5 6]]]\n"
          ],
          "name": "stdout"
        }
      ]
    },
    {
      "cell_type": "markdown",
      "metadata": {
        "id": "5wIvxz_F0Rj4"
      },
      "source": [
        "#### Операция .dot — обобщённое матричное умножение"
      ]
    },
    {
      "cell_type": "code",
      "metadata": {
        "id": "pDjcr80O0Rj5",
        "colab": {
          "base_uri": "https://localhost:8080/"
        },
        "outputId": "267ebe94-7ef4-4bc2-c71d-b6cbf1976134"
      },
      "source": [
        "a = np.arange(6)\n",
        "b = np.arange(6)\n",
        "print(a)\n",
        "print(b)"
      ],
      "execution_count": 47,
      "outputs": [
        {
          "output_type": "stream",
          "text": [
            "[0 1 2 3 4 5]\n",
            "[0 1 2 3 4 5]\n"
          ],
          "name": "stdout"
        }
      ]
    },
    {
      "cell_type": "code",
      "metadata": {
        "id": "rMctO4pV0Rj6",
        "colab": {
          "base_uri": "https://localhost:8080/"
        },
        "outputId": "90d6b96f-3c78-4e8c-8ae2-a8adfab3575f"
      },
      "source": [
        "# two vector dot product\n",
        "print(a.dot(b))\n",
        "print(np.dot(a, b))"
      ],
      "execution_count": 48,
      "outputs": [
        {
          "output_type": "stream",
          "text": [
            "55\n",
            "55\n"
          ],
          "name": "stdout"
        }
      ]
    },
    {
      "cell_type": "code",
      "metadata": {
        "id": "S8bTgS2N0Rj7",
        "colab": {
          "base_uri": "https://localhost:8080/"
        },
        "outputId": "1097f9bd-4af6-44bb-c238-f1a42b732124"
      },
      "source": [
        "# matrix-vector product\n",
        "a = np.arange(6).reshape(3, 2)\n",
        "b = np.arange(2) + 1\n",
        "print(a)\n",
        "print(b)\n",
        "print(a.dot(b))"
      ],
      "execution_count": 49,
      "outputs": [
        {
          "output_type": "stream",
          "text": [
            "[[0 1]\n",
            " [2 3]\n",
            " [4 5]]\n",
            "[1 2]\n",
            "[ 2  8 14]\n"
          ],
          "name": "stdout"
        }
      ]
    },
    {
      "cell_type": "code",
      "metadata": {
        "id": "mAJpOl3d0Rj7",
        "colab": {
          "base_uri": "https://localhost:8080/"
        },
        "outputId": "bbbb8bb2-e178-41ca-dad6-2659d269b0c6"
      },
      "source": [
        "# wrong alignment!\n",
        "try:\n",
        "    print(a.dot(b.reshape(1, 2)))\n",
        "except Exception as e:\n",
        "    print(type(e), e)"
      ],
      "execution_count": 50,
      "outputs": [
        {
          "output_type": "stream",
          "text": [
            "<class 'ValueError'> shapes (3,2) and (1,2) not aligned: 2 (dim 1) != 1 (dim 0)\n"
          ],
          "name": "stdout"
        }
      ]
    },
    {
      "cell_type": "code",
      "metadata": {
        "id": "J5-XBI6c0Rj7",
        "colab": {
          "base_uri": "https://localhost:8080/"
        },
        "outputId": "8a23abe8-9442-4440-c0df-fe44f945317f"
      },
      "source": [
        "# matrix-matrix product\n",
        "a = np.arange(6).reshape(3, 2)\n",
        "b = np.arange(8).reshape(2, 4)\n",
        "print(a.shape)\n",
        "print(b.shape)\n",
        "print(a.dot(b).shape)"
      ],
      "execution_count": 51,
      "outputs": [
        {
          "output_type": "stream",
          "text": [
            "(3, 2)\n",
            "(2, 4)\n",
            "(3, 4)\n"
          ],
          "name": "stdout"
        }
      ]
    },
    {
      "cell_type": "markdown",
      "metadata": {
        "id": "Te98YyUo0Rj8"
      },
      "source": [
        "## Example: Linear system solution\n",
        "Let's say we want to solve $Ax = b$.  \n",
        "  \n",
        "Solution may not exist, so let's solve $x = argmin\\space||Ax - b||_2^2$ with respect to $x$.  \n",
        "  \n",
        "Optimal solution: $x = (A^T A)^{-1}A^Tb$.  \n",
        "  \n",
        "$(A^T A)^{-1}$ is guaranteed to exist."
      ]
    },
    {
      "cell_type": "code",
      "metadata": {
        "id": "dHcnoH5t0Rj8"
      },
      "source": [
        "A = np.random.uniform(-1, 1, size=(3, 3))\n",
        "b = np.random.uniform(-1, 1, size=(3,))"
      ],
      "execution_count": 52,
      "outputs": []
    },
    {
      "cell_type": "code",
      "metadata": {
        "id": "QV0QKFyF0Rj9"
      },
      "source": [
        "x = np.linalg.inv(A.T.dot(A)).dot(A.T).dot(b)"
      ],
      "execution_count": 53,
      "outputs": []
    },
    {
      "cell_type": "code",
      "metadata": {
        "id": "tIyTv3eY0Rj9"
      },
      "source": [
        "assert np.linalg.norm(A.dot(x) - b) < 1e-6"
      ],
      "execution_count": 54,
      "outputs": []
    }
  ]
}